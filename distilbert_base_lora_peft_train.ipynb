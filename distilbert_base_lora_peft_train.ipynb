{
 "cells": [
  {
   "cell_type": "code",
   "execution_count": 1,
   "id": "initial_id",
   "metadata": {
    "collapsed": true,
    "ExecuteTime": {
     "end_time": "2024-03-27T10:37:10.474997Z",
     "start_time": "2024-03-27T10:37:06.653507Z"
    }
   },
   "outputs": [],
   "source": [
    "import os\n",
    "\n",
    "import evaluate\n",
    "import numpy as np\n",
    "from datasets import load_dataset\n",
    "from dotenv import load_dotenv\n",
    "from peft import LoraConfig, TaskType\n",
    "from transformers import TrainingArguments, Trainer, \\\n",
    "    DataCollatorWithPadding, AutoModelForSequenceClassification, AutoTokenizer"
   ]
  },
  {
   "cell_type": "code",
   "outputs": [
    {
     "data": {
      "text/plain": "True"
     },
     "execution_count": 2,
     "metadata": {},
     "output_type": "execute_result"
    }
   ],
   "source": [
    "load_dotenv()"
   ],
   "metadata": {
    "collapsed": false,
    "ExecuteTime": {
     "end_time": "2024-03-27T10:37:10.491001Z",
     "start_time": "2024-03-27T10:37:10.475998Z"
    }
   },
   "id": "fd615eb7fdbbbd23",
   "execution_count": 2
  },
  {
   "cell_type": "markdown",
   "source": [
    "## Load the model. I used `bert-base-uncased`."
   ],
   "metadata": {
    "collapsed": false
   },
   "id": "6e0082b614569cd8"
  },
  {
   "cell_type": "code",
   "outputs": [
    {
     "name": "stderr",
     "output_type": "stream",
     "text": [
      "Some weights of DistilBertForSequenceClassification were not initialized from the model checkpoint at distilbert/distilbert-base-uncased and are newly initialized: ['classifier.bias', 'classifier.weight', 'pre_classifier.bias', 'pre_classifier.weight']\n",
      "You should probably TRAIN this model on a down-stream task to be able to use it for predictions and inference.\n"
     ]
    }
   ],
   "source": [
    "tokenizer = AutoTokenizer.from_pretrained('distilbert/distilbert-base-uncased', token=os.getenv('HUGGINGFACE_TOKEN'))\n",
    "model = AutoModelForSequenceClassification.from_pretrained('distilbert/distilbert-base-uncased',\n",
    "                                                           trust_remote_code=False,\n",
    "                                                           token=os.getenv('HUGGINGFACE_TOKEN'))"
   ],
   "metadata": {
    "collapsed": false,
    "ExecuteTime": {
     "end_time": "2024-03-27T10:37:11.314921Z",
     "start_time": "2024-03-27T10:37:10.492Z"
    }
   },
   "id": "985e14e2bb64e588",
   "execution_count": 3
  },
  {
   "cell_type": "markdown",
   "source": [
    "### Use PEFT for effeciency."
   ],
   "metadata": {
    "collapsed": false
   },
   "id": "119647ccce0757e8"
  },
  {
   "cell_type": "code",
   "outputs": [],
   "source": [
    "lora_config = LoraConfig(\n",
    "    task_type=TaskType.SEQ_CLS,\n",
    "    inference_mode=False,\n",
    "    r=8,\n",
    "    lora_alpha=32,\n",
    "    bias='none',\n",
    "    lora_dropout=0.1,\n",
    "    target_modules=[\n",
    "        \"transformer.layer.0.attention.query_key_value\",\n",
    "        \"transformer.layer.5.ffn.lin1\"\n",
    "    ],\n",
    ")"
   ],
   "metadata": {
    "collapsed": false,
    "ExecuteTime": {
     "end_time": "2024-03-27T10:37:11.330925Z",
     "start_time": "2024-03-27T10:37:11.315921Z"
    }
   },
   "id": "76ea3715896357c6",
   "execution_count": 4
  },
  {
   "cell_type": "code",
   "outputs": [],
   "source": [
    "# model = get_peft_model(model, lora_config)"
   ],
   "metadata": {
    "collapsed": false,
    "ExecuteTime": {
     "end_time": "2024-03-27T10:37:11.346929Z",
     "start_time": "2024-03-27T10:37:11.331925Z"
    }
   },
   "id": "8ba58f19ceb3b998",
   "execution_count": 5
  },
  {
   "cell_type": "code",
   "outputs": [
    {
     "data": {
      "text/plain": "DistilBertForSequenceClassification(\n  (distilbert): DistilBertModel(\n    (embeddings): Embeddings(\n      (word_embeddings): Embedding(30522, 768, padding_idx=0)\n      (position_embeddings): Embedding(512, 768)\n      (LayerNorm): LayerNorm((768,), eps=1e-12, elementwise_affine=True)\n      (dropout): Dropout(p=0.1, inplace=False)\n    )\n    (transformer): Transformer(\n      (layer): ModuleList(\n        (0-5): 6 x TransformerBlock(\n          (attention): MultiHeadSelfAttention(\n            (dropout): Dropout(p=0.1, inplace=False)\n            (q_lin): Linear(in_features=768, out_features=768, bias=True)\n            (k_lin): Linear(in_features=768, out_features=768, bias=True)\n            (v_lin): Linear(in_features=768, out_features=768, bias=True)\n            (out_lin): Linear(in_features=768, out_features=768, bias=True)\n          )\n          (sa_layer_norm): LayerNorm((768,), eps=1e-12, elementwise_affine=True)\n          (ffn): FFN(\n            (dropout): Dropout(p=0.1, inplace=False)\n            (lin1): Linear(in_features=768, out_features=3072, bias=True)\n            (lin2): Linear(in_features=3072, out_features=768, bias=True)\n            (activation): GELUActivation()\n          )\n          (output_layer_norm): LayerNorm((768,), eps=1e-12, elementwise_affine=True)\n        )\n      )\n    )\n  )\n  (pre_classifier): Linear(in_features=768, out_features=768, bias=True)\n  (classifier): Linear(in_features=768, out_features=2, bias=True)\n  (dropout): Dropout(p=0.2, inplace=False)\n)"
     },
     "execution_count": 6,
     "metadata": {},
     "output_type": "execute_result"
    }
   ],
   "source": [
    "model"
   ],
   "metadata": {
    "collapsed": false,
    "ExecuteTime": {
     "end_time": "2024-03-27T10:37:11.362436Z",
     "start_time": "2024-03-27T10:37:11.347930Z"
    }
   },
   "id": "c4e1b3fec135a32b",
   "execution_count": 6
  },
  {
   "cell_type": "markdown",
   "source": [
    "### EDA"
   ],
   "metadata": {
    "collapsed": false
   },
   "id": "a965bd4581ddc06"
  },
  {
   "cell_type": "code",
   "outputs": [
    {
     "data": {
      "text/plain": "DatasetDict({\n    train: Dataset({\n        features: ['text', 'label'],\n        num_rows: 25000\n    })\n    test: Dataset({\n        features: ['text', 'label'],\n        num_rows: 25000\n    })\n    unsupervised: Dataset({\n        features: ['text', 'label'],\n        num_rows: 50000\n    })\n})"
     },
     "execution_count": 7,
     "metadata": {},
     "output_type": "execute_result"
    }
   ],
   "source": [
    "imdb = load_dataset(\"imdb\")\n",
    "imdb"
   ],
   "metadata": {
    "collapsed": false,
    "ExecuteTime": {
     "end_time": "2024-03-27T10:37:29.145708Z",
     "start_time": "2024-03-27T10:37:11.363436Z"
    }
   },
   "id": "e1ff1b3991863bb5",
   "execution_count": 7
  },
  {
   "cell_type": "code",
   "outputs": [
    {
     "data": {
      "text/plain": "Map:   0%|          | 0/25000 [00:00<?, ? examples/s]",
      "application/vnd.jupyter.widget-view+json": {
       "version_major": 2,
       "version_minor": 0,
       "model_id": "50f7e92a151d4ba982b9328120238b75"
      }
     },
     "metadata": {},
     "output_type": "display_data"
    },
    {
     "data": {
      "text/plain": "Map:   0%|          | 0/25000 [00:00<?, ? examples/s]",
      "application/vnd.jupyter.widget-view+json": {
       "version_major": 2,
       "version_minor": 0,
       "model_id": "c6452768852146fa8dd2604179200386"
      }
     },
     "metadata": {},
     "output_type": "display_data"
    },
    {
     "data": {
      "text/plain": "Map:   0%|          | 0/50000 [00:00<?, ? examples/s]",
      "application/vnd.jupyter.widget-view+json": {
       "version_major": 2,
       "version_minor": 0,
       "model_id": "13d1cfa154bc454fb0253dc1b79a30c3"
      }
     },
     "metadata": {},
     "output_type": "display_data"
    }
   ],
   "source": [
    "def preprocess_function(examples):\n",
    "    # Tokenize the reviews\n",
    "    text_tokenized = tokenizer(examples['text'], padding='max_length', truncation=True, max_length=512,\n",
    "                               add_special_tokens=True)\n",
    "    return text_tokenized\n",
    "\n",
    "\n",
    "tokenized_train = imdb['train'].map(preprocess_function, batched=True)\n",
    "tokenized_test = imdb['test'].map(preprocess_function, batched=True)\n",
    "tokenized_unsupervised = imdb['unsupervised'].map(preprocess_function, batched=True)"
   ],
   "metadata": {
    "collapsed": false,
    "ExecuteTime": {
     "end_time": "2024-03-27T10:37:52.353112Z",
     "start_time": "2024-03-27T10:37:29.146708Z"
    }
   },
   "id": "9645864a0073bcdb",
   "execution_count": 8
  },
  {
   "cell_type": "code",
   "outputs": [
    {
     "data": {
      "text/plain": "Dataset({\n    features: ['text', 'label', 'input_ids', 'attention_mask'],\n    num_rows: 25000\n})"
     },
     "execution_count": 9,
     "metadata": {},
     "output_type": "execute_result"
    }
   ],
   "source": [
    "tokenized_train"
   ],
   "metadata": {
    "collapsed": false,
    "ExecuteTime": {
     "end_time": "2024-03-27T10:37:52.369118Z",
     "start_time": "2024-03-27T10:37:52.354112Z"
    }
   },
   "id": "1f3a907c20dfc06b",
   "execution_count": 9
  },
  {
   "cell_type": "code",
   "outputs": [
    {
     "data": {
      "text/plain": "Dataset({\n    features: ['text', 'label', 'input_ids', 'attention_mask'],\n    num_rows: 25000\n})"
     },
     "execution_count": 10,
     "metadata": {},
     "output_type": "execute_result"
    }
   ],
   "source": [
    "tokenized_test"
   ],
   "metadata": {
    "collapsed": false,
    "ExecuteTime": {
     "end_time": "2024-03-27T10:37:52.384625Z",
     "start_time": "2024-03-27T10:37:52.371118Z"
    }
   },
   "id": "65c27fd89e732365",
   "execution_count": 10
  },
  {
   "cell_type": "code",
   "outputs": [],
   "source": [
    "def compute_metrics(eval_pred):\n",
    "    load_accuracy = evaluate.load(\"accuracy\")\n",
    "\n",
    "    logits, labels = eval_pred\n",
    "    predictions = np.argmax(logits, axis=-1)\n",
    "    accuracy = load_accuracy.compute(predictions=predictions, references=labels)[\"accuracy\"]\n",
    "    return {\"accuracy\": accuracy, }"
   ],
   "metadata": {
    "collapsed": false,
    "ExecuteTime": {
     "end_time": "2024-03-27T10:37:52.400629Z",
     "start_time": "2024-03-27T10:37:52.385625Z"
    }
   },
   "id": "8de6d6c8c6cd94e8",
   "execution_count": 11
  },
  {
   "cell_type": "code",
   "outputs": [],
   "source": [
    "training_args = TrainingArguments(\n",
    "    output_dir=\"./saved_model/training\",\n",
    "    evaluation_strategy=\"epoch\",\n",
    "    save_strategy=\"epoch\",\n",
    "    load_best_model_at_end=True,\n",
    "    warmup_steps=1000,\n",
    "    do_train=True,\n",
    "    do_eval=True,\n",
    "    bf16=True,\n",
    ")"
   ],
   "metadata": {
    "collapsed": false,
    "ExecuteTime": {
     "end_time": "2024-03-27T10:37:52.416633Z",
     "start_time": "2024-03-27T10:37:52.401629Z"
    }
   },
   "id": "f23f7827adc8399c",
   "execution_count": 12
  },
  {
   "cell_type": "code",
   "outputs": [],
   "source": [
    "data_collator = DataCollatorWithPadding(tokenizer=tokenizer)"
   ],
   "metadata": {
    "collapsed": false,
    "ExecuteTime": {
     "end_time": "2024-03-27T10:37:52.432636Z",
     "start_time": "2024-03-27T10:37:52.417633Z"
    }
   },
   "id": "58906c6bec470a35",
   "execution_count": 13
  },
  {
   "cell_type": "code",
   "outputs": [
    {
     "name": "stderr",
     "output_type": "stream",
     "text": [
      "C:\\Users\\aksid\\PycharmProjects\\ReviewCategoriser\\venv\\lib\\site-packages\\accelerate\\accelerator.py:432: FutureWarning: Passing the following arguments to `Accelerator` is deprecated and will be removed in version 1.0 of Accelerate: dict_keys(['dispatch_batches', 'split_batches', 'even_batches', 'use_seedable_sampler']). Please pass an `accelerate.DataLoaderConfiguration` instead: \n",
      "dataloader_config = DataLoaderConfiguration(dispatch_batches=None, split_batches=False, even_batches=True, use_seedable_sampler=True)\n",
      "  warnings.warn(\n"
     ]
    }
   ],
   "source": [
    "trainer = Trainer(\n",
    "    model=model,\n",
    "    args=training_args,\n",
    "    train_dataset=tokenized_train,\n",
    "    eval_dataset=tokenized_test,\n",
    "    tokenizer=tokenizer,\n",
    "    data_collator=data_collator,\n",
    "    compute_metrics=compute_metrics,\n",
    ")"
   ],
   "metadata": {
    "collapsed": false,
    "ExecuteTime": {
     "end_time": "2024-03-27T10:37:52.574677Z",
     "start_time": "2024-03-27T10:37:52.433637Z"
    }
   },
   "id": "ff5d224b8e3eebf2",
   "execution_count": 14
  },
  {
   "cell_type": "code",
   "outputs": [
    {
     "data": {
      "text/plain": "<IPython.core.display.HTML object>",
      "text/html": "\n    <div>\n      \n      <progress value='9375' max='9375' style='width:300px; height:20px; vertical-align: middle;'></progress>\n      [9375/9375 13:23, Epoch 3/3]\n    </div>\n    <table border=\"1\" class=\"dataframe\">\n  <thead>\n <tr style=\"text-align: left;\">\n      <th>Epoch</th>\n      <th>Training Loss</th>\n      <th>Validation Loss</th>\n      <th>Accuracy</th>\n    </tr>\n  </thead>\n  <tbody>\n    <tr>\n      <td>1</td>\n      <td>0.282800</td>\n      <td>0.323431</td>\n      <td>0.896880</td>\n    </tr>\n    <tr>\n      <td>2</td>\n      <td>0.188100</td>\n      <td>0.238837</td>\n      <td>0.929600</td>\n    </tr>\n    <tr>\n      <td>3</td>\n      <td>0.080200</td>\n      <td>0.348986</td>\n      <td>0.931200</td>\n    </tr>\n  </tbody>\n</table><p>"
     },
     "metadata": {},
     "output_type": "display_data"
    },
    {
     "name": "stdout",
     "output_type": "stream",
     "text": [
      "CPU times: total: 5min 12s\n",
      "Wall time: 13min 23s\n"
     ]
    }
   ],
   "source": [
    "%%time\n",
    "\n",
    "training_result = trainer.train()"
   ],
   "metadata": {
    "collapsed": false,
    "ExecuteTime": {
     "end_time": "2024-03-27T10:51:16.273456Z",
     "start_time": "2024-03-27T10:37:52.575677Z"
    }
   },
   "id": "6dde851f85d5479f",
   "execution_count": 15
  },
  {
   "cell_type": "code",
   "outputs": [],
   "source": [
    "# compute train results\n",
    "metrics = training_result.metrics\n",
    "max_train_samples = len(tokenized_train)\n",
    "metrics[\"train_samples\"] = min(max_train_samples, len(tokenized_train))"
   ],
   "metadata": {
    "collapsed": false,
    "ExecuteTime": {
     "end_time": "2024-03-27T10:51:16.289460Z",
     "start_time": "2024-03-27T10:51:16.274456Z"
    }
   },
   "id": "5f455d330a592079",
   "execution_count": 16
  },
  {
   "cell_type": "code",
   "outputs": [
    {
     "data": {
      "text/plain": "<IPython.core.display.HTML object>",
      "text/html": "\n    <div>\n      \n      <progress value='3125' max='3125' style='width:300px; height:20px; vertical-align: middle;'></progress>\n      [3125/3125 01:01]\n    </div>\n    "
     },
     "metadata": {},
     "output_type": "display_data"
    }
   ],
   "source": [
    "# compute evaluation results\n",
    "metrics = trainer.evaluate()\n",
    "max_val_samples = len(tokenized_test)\n",
    "metrics[\"eval_samples\"] = min(max_val_samples, len(tokenized_test))"
   ],
   "metadata": {
    "collapsed": false,
    "ExecuteTime": {
     "end_time": "2024-03-27T10:52:19.398461Z",
     "start_time": "2024-03-27T10:51:16.290460Z"
    }
   },
   "id": "8302930f0a73930",
   "execution_count": 17
  },
  {
   "cell_type": "code",
   "outputs": [
    {
     "data": {
      "text/plain": "{'eval_loss': 0.23883679509162903,\n 'eval_accuracy': 0.9296,\n 'eval_runtime': 63.0925,\n 'eval_samples_per_second': 396.244,\n 'eval_steps_per_second': 49.53,\n 'epoch': 3.0,\n 'eval_samples': 25000}"
     },
     "execution_count": 18,
     "metadata": {},
     "output_type": "execute_result"
    }
   ],
   "source": [
    "metrics"
   ],
   "metadata": {
    "collapsed": false,
    "ExecuteTime": {
     "end_time": "2024-03-27T10:52:19.414465Z",
     "start_time": "2024-03-27T10:52:19.399462Z"
    }
   },
   "id": "72c0eedb041ba4c8",
   "execution_count": 18
  },
  {
   "cell_type": "markdown",
   "source": [
    "### Performance Metrics\n",
    "\n",
    "| eval_loss | eval_accuracy | eval_runtime | eval_samples_per_second | eval_steps_per_second | epoc | eval_samples |\n",
    "|---|---|---|---|---|---|---|\n",
    "| 0.2707870304584503 | 0.92368 | 62.8935 | 397.497 | 49.687 | 3.0 | 25000 |"
   ],
   "metadata": {
    "collapsed": false
   },
   "id": "8b13e4acd5246086"
  },
  {
   "cell_type": "markdown",
   "source": [
    "### Test!"
   ],
   "metadata": {
    "collapsed": false
   },
   "id": "ff3eb16d8ae8e71d"
  },
  {
   "cell_type": "code",
   "outputs": [
    {
     "data": {
      "text/plain": "'My town is a small one and we can only have the chance to see the big Hollywood productions.I had to wait for months to see this movie and I found it at Blockbusters yesterday.The cast is a dream cast for me I always liked Peter Mullan after My name is Joe.Milla Jovovich is an actress which I really find passionate.When the film was over I could not believe how bad it was.Meaningless details,bad picture quality and unbelievably bad story. I am so sorry for the cast and the director.'"
     },
     "execution_count": 19,
     "metadata": {},
     "output_type": "execute_result"
    }
   ],
   "source": [
    "import random\n",
    "\n",
    "N = len(tokenized_unsupervised)\n",
    "\n",
    "idx = random.randint(1, N)\n",
    "\n",
    "example = tokenized_unsupervised[idx]\n",
    "text = example['text']\n",
    "text"
   ],
   "metadata": {
    "collapsed": false,
    "ExecuteTime": {
     "end_time": "2024-03-27T10:52:19.430468Z",
     "start_time": "2024-03-27T10:52:19.415465Z"
    }
   },
   "id": "3bbe84616ba5dbe5",
   "execution_count": 19
  },
  {
   "cell_type": "code",
   "outputs": [],
   "source": [
    "tokenised = tokenizer(text, return_tensors='pt')\n",
    "model = model.to('cpu')\n",
    "res = model(**tokenised)"
   ],
   "metadata": {
    "collapsed": false,
    "ExecuteTime": {
     "end_time": "2024-03-27T10:52:19.589007Z",
     "start_time": "2024-03-27T10:52:19.431468Z"
    }
   },
   "id": "9c753a8f4b629786",
   "execution_count": 20
  },
  {
   "cell_type": "code",
   "outputs": [
    {
     "data": {
      "text/plain": "tensor(0)"
     },
     "execution_count": 21,
     "metadata": {},
     "output_type": "execute_result"
    }
   ],
   "source": [
    "import torch.nn.functional as F\n",
    "\n",
    "probabilities = F.softmax(res.logits, dim=1)\n",
    "predicted_class = probabilities.argmax(dim=1)\n",
    "predicted_class[0]"
   ],
   "metadata": {
    "collapsed": false,
    "ExecuteTime": {
     "end_time": "2024-03-27T10:52:19.604513Z",
     "start_time": "2024-03-27T10:52:19.589007Z"
    }
   },
   "id": "2cdfb7dcd1097ae2",
   "execution_count": 21
  },
  {
   "cell_type": "code",
   "outputs": [],
   "source": [
    "trainer.save_model('saved_model/distilbert-base-peft')"
   ],
   "metadata": {
    "collapsed": false,
    "ExecuteTime": {
     "end_time": "2024-03-27T10:52:19.812086Z",
     "start_time": "2024-03-27T10:52:19.605513Z"
    }
   },
   "id": "b9eb0653ed3674a4",
   "execution_count": 22
  },
  {
   "cell_type": "code",
   "outputs": [
    {
     "data": {
      "text/plain": "66955010"
     },
     "execution_count": 23,
     "metadata": {},
     "output_type": "execute_result"
    }
   ],
   "source": [
    "model.num_parameters()"
   ],
   "metadata": {
    "collapsed": false,
    "ExecuteTime": {
     "end_time": "2024-03-27T10:52:19.828090Z",
     "start_time": "2024-03-27T10:52:19.813087Z"
    }
   },
   "id": "a89409684d1fb0a5",
   "execution_count": 23
  },
  {
   "cell_type": "code",
   "outputs": [],
   "source": [],
   "metadata": {
    "collapsed": false,
    "ExecuteTime": {
     "end_time": "2024-03-27T10:52:19.844093Z",
     "start_time": "2024-03-27T10:52:19.829091Z"
    }
   },
   "id": "cec8814406ff67cb",
   "execution_count": 23
  }
 ],
 "metadata": {
  "kernelspec": {
   "display_name": "Python 3",
   "language": "python",
   "name": "python3"
  },
  "language_info": {
   "codemirror_mode": {
    "name": "ipython",
    "version": 2
   },
   "file_extension": ".py",
   "mimetype": "text/x-python",
   "name": "python",
   "nbconvert_exporter": "python",
   "pygments_lexer": "ipython2",
   "version": "2.7.6"
  }
 },
 "nbformat": 4,
 "nbformat_minor": 5
}
