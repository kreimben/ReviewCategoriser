{
 "cells": [
  {
   "cell_type": "code",
   "execution_count": 1,
   "id": "initial_id",
   "metadata": {
    "collapsed": true,
    "ExecuteTime": {
     "end_time": "2024-03-23T03:41:34.012614Z",
     "start_time": "2024-03-23T03:41:30.203440Z"
    }
   },
   "outputs": [],
   "source": [
    "import os\n",
    "\n",
    "import evaluate\n",
    "import numpy as np\n",
    "from datasets import load_dataset\n",
    "from dotenv import load_dotenv\n",
    "from peft import LoraConfig, TaskType, get_peft_model\n",
    "from transformers import TrainingArguments, Trainer, \\\n",
    "    DataCollatorWithPadding, BertTokenizer, AutoModelForSequenceClassification"
   ]
  },
  {
   "cell_type": "code",
   "outputs": [
    {
     "data": {
      "text/plain": "True"
     },
     "execution_count": 2,
     "metadata": {},
     "output_type": "execute_result"
    }
   ],
   "source": [
    "load_dotenv()"
   ],
   "metadata": {
    "collapsed": false,
    "ExecuteTime": {
     "end_time": "2024-03-23T03:41:34.028617Z",
     "start_time": "2024-03-23T03:41:34.013613Z"
    }
   },
   "id": "fd615eb7fdbbbd23",
   "execution_count": 2
  },
  {
   "cell_type": "markdown",
   "source": [
    "## Load the model. I will use `RoBERTa` model on huggingface."
   ],
   "metadata": {
    "collapsed": false
   },
   "id": "6e0082b614569cd8"
  },
  {
   "cell_type": "code",
   "outputs": [
    {
     "name": "stderr",
     "output_type": "stream",
     "text": [
      "Some weights of BertForSequenceClassification were not initialized from the model checkpoint at bert-base-uncased and are newly initialized: ['classifier.bias', 'classifier.weight']\n",
      "You should probably TRAIN this model on a down-stream task to be able to use it for predictions and inference.\n"
     ]
    }
   ],
   "source": [
    "tokenizer = BertTokenizer.from_pretrained('bert-base-uncased', token=os.getenv('HUGGINGFACE_TOKEN'))\n",
    "model = AutoModelForSequenceClassification.from_pretrained('bert-base-uncased',\n",
    "                                                           trust_remote_code=False,\n",
    "                                                           token=os.getenv('HUGGINGFACE_TOKEN'))"
   ],
   "metadata": {
    "collapsed": false,
    "ExecuteTime": {
     "end_time": "2024-03-23T03:41:34.693544Z",
     "start_time": "2024-03-23T03:41:34.029617Z"
    }
   },
   "id": "985e14e2bb64e588",
   "execution_count": 3
  },
  {
   "cell_type": "markdown",
   "source": [
    "### Use PEFT and Lora for effeciency."
   ],
   "metadata": {
    "collapsed": false
   },
   "id": "119647ccce0757e8"
  },
  {
   "cell_type": "code",
   "outputs": [],
   "source": [
    "lora_config = LoraConfig(\n",
    "    task_type=TaskType.SEQ_CLS,\n",
    "    inference_mode=False,\n",
    "    r=8,\n",
    "    lora_alpha=32,\n",
    "    bias='none',\n",
    "    lora_dropout=0.1,\n",
    ")"
   ],
   "metadata": {
    "collapsed": false,
    "ExecuteTime": {
     "end_time": "2024-03-23T03:41:34.709050Z",
     "start_time": "2024-03-23T03:41:34.694544Z"
    }
   },
   "id": "76ea3715896357c6",
   "execution_count": 4
  },
  {
   "cell_type": "code",
   "outputs": [],
   "source": [
    "model = get_peft_model(model, lora_config)"
   ],
   "metadata": {
    "collapsed": false,
    "ExecuteTime": {
     "end_time": "2024-03-23T03:41:34.757061Z",
     "start_time": "2024-03-23T03:41:34.711051Z"
    }
   },
   "id": "8ba58f19ceb3b998",
   "execution_count": 5
  },
  {
   "cell_type": "code",
   "outputs": [
    {
     "data": {
      "text/plain": "PeftModelForSequenceClassification(\n  (base_model): LoraModel(\n    (model): BertForSequenceClassification(\n      (bert): BertModel(\n        (embeddings): BertEmbeddings(\n          (word_embeddings): Embedding(30522, 768, padding_idx=0)\n          (position_embeddings): Embedding(512, 768)\n          (token_type_embeddings): Embedding(2, 768)\n          (LayerNorm): LayerNorm((768,), eps=1e-12, elementwise_affine=True)\n          (dropout): Dropout(p=0.1, inplace=False)\n        )\n        (encoder): BertEncoder(\n          (layer): ModuleList(\n            (0-11): 12 x BertLayer(\n              (attention): BertAttention(\n                (self): BertSelfAttention(\n                  (query): lora.Linear(\n                    (base_layer): Linear(in_features=768, out_features=768, bias=True)\n                    (lora_dropout): ModuleDict(\n                      (default): Dropout(p=0.1, inplace=False)\n                    )\n                    (lora_A): ModuleDict(\n                      (default): Linear(in_features=768, out_features=8, bias=False)\n                    )\n                    (lora_B): ModuleDict(\n                      (default): Linear(in_features=8, out_features=768, bias=False)\n                    )\n                    (lora_embedding_A): ParameterDict()\n                    (lora_embedding_B): ParameterDict()\n                  )\n                  (key): Linear(in_features=768, out_features=768, bias=True)\n                  (value): lora.Linear(\n                    (base_layer): Linear(in_features=768, out_features=768, bias=True)\n                    (lora_dropout): ModuleDict(\n                      (default): Dropout(p=0.1, inplace=False)\n                    )\n                    (lora_A): ModuleDict(\n                      (default): Linear(in_features=768, out_features=8, bias=False)\n                    )\n                    (lora_B): ModuleDict(\n                      (default): Linear(in_features=8, out_features=768, bias=False)\n                    )\n                    (lora_embedding_A): ParameterDict()\n                    (lora_embedding_B): ParameterDict()\n                  )\n                  (dropout): Dropout(p=0.1, inplace=False)\n                )\n                (output): BertSelfOutput(\n                  (dense): Linear(in_features=768, out_features=768, bias=True)\n                  (LayerNorm): LayerNorm((768,), eps=1e-12, elementwise_affine=True)\n                  (dropout): Dropout(p=0.1, inplace=False)\n                )\n              )\n              (intermediate): BertIntermediate(\n                (dense): Linear(in_features=768, out_features=3072, bias=True)\n                (intermediate_act_fn): GELUActivation()\n              )\n              (output): BertOutput(\n                (dense): Linear(in_features=3072, out_features=768, bias=True)\n                (LayerNorm): LayerNorm((768,), eps=1e-12, elementwise_affine=True)\n                (dropout): Dropout(p=0.1, inplace=False)\n              )\n            )\n          )\n        )\n        (pooler): BertPooler(\n          (dense): Linear(in_features=768, out_features=768, bias=True)\n          (activation): Tanh()\n        )\n      )\n      (dropout): Dropout(p=0.1, inplace=False)\n      (classifier): ModulesToSaveWrapper(\n        (original_module): Linear(in_features=768, out_features=2, bias=True)\n        (modules_to_save): ModuleDict(\n          (default): Linear(in_features=768, out_features=2, bias=True)\n        )\n      )\n    )\n  )\n)"
     },
     "execution_count": 6,
     "metadata": {},
     "output_type": "execute_result"
    }
   ],
   "source": [
    "model"
   ],
   "metadata": {
    "collapsed": false,
    "ExecuteTime": {
     "end_time": "2024-03-23T03:41:34.773065Z",
     "start_time": "2024-03-23T03:41:34.758062Z"
    }
   },
   "id": "c4e1b3fec135a32b",
   "execution_count": 6
  },
  {
   "cell_type": "markdown",
   "source": [
    "### EDA"
   ],
   "metadata": {
    "collapsed": false
   },
   "id": "a965bd4581ddc06"
  },
  {
   "cell_type": "code",
   "outputs": [
    {
     "data": {
      "text/plain": "DatasetDict({\n    train: Dataset({\n        features: ['text', 'label'],\n        num_rows: 25000\n    })\n    test: Dataset({\n        features: ['text', 'label'],\n        num_rows: 25000\n    })\n    unsupervised: Dataset({\n        features: ['text', 'label'],\n        num_rows: 50000\n    })\n})"
     },
     "execution_count": 7,
     "metadata": {},
     "output_type": "execute_result"
    }
   ],
   "source": [
    "imdb = load_dataset(\"imdb\")\n",
    "imdb"
   ],
   "metadata": {
    "collapsed": false,
    "ExecuteTime": {
     "end_time": "2024-03-23T03:41:45.261274Z",
     "start_time": "2024-03-23T03:41:34.774066Z"
    }
   },
   "id": "e1ff1b3991863bb5",
   "execution_count": 7
  },
  {
   "cell_type": "code",
   "outputs": [],
   "source": [
    "def preprocess_function(examples):\n",
    "    # Tokenize the reviews\n",
    "    text_tokenized = tokenizer(examples['text'], padding='max_length', truncation=True)\n",
    "    return text_tokenized\n",
    "\n",
    "\n",
    "tokenized_train = imdb['train'].map(preprocess_function, batched=True)\n",
    "tokenized_test = imdb['test'].map(preprocess_function, batched=True)\n",
    "tokenized_unsupervised = imdb['unsupervised'].map(preprocess_function, batched=True)"
   ],
   "metadata": {
    "collapsed": false,
    "ExecuteTime": {
     "end_time": "2024-03-23T03:41:45.845432Z",
     "start_time": "2024-03-23T03:41:45.262274Z"
    }
   },
   "id": "9645864a0073bcdb",
   "execution_count": 8
  },
  {
   "cell_type": "code",
   "outputs": [
    {
     "data": {
      "text/plain": "Dataset({\n    features: ['text', 'label', 'input_ids', 'token_type_ids', 'attention_mask'],\n    num_rows: 25000\n})"
     },
     "execution_count": 9,
     "metadata": {},
     "output_type": "execute_result"
    }
   ],
   "source": [
    "tokenized_train"
   ],
   "metadata": {
    "collapsed": false,
    "ExecuteTime": {
     "end_time": "2024-03-23T03:41:45.861436Z",
     "start_time": "2024-03-23T03:41:45.846433Z"
    }
   },
   "id": "1f3a907c20dfc06b",
   "execution_count": 9
  },
  {
   "cell_type": "code",
   "outputs": [
    {
     "data": {
      "text/plain": "Dataset({\n    features: ['text', 'label', 'input_ids', 'token_type_ids', 'attention_mask'],\n    num_rows: 25000\n})"
     },
     "execution_count": 10,
     "metadata": {},
     "output_type": "execute_result"
    }
   ],
   "source": [
    "tokenized_test"
   ],
   "metadata": {
    "collapsed": false,
    "ExecuteTime": {
     "end_time": "2024-03-23T03:41:45.877440Z",
     "start_time": "2024-03-23T03:41:45.862436Z"
    }
   },
   "id": "65c27fd89e732365",
   "execution_count": 10
  },
  {
   "cell_type": "code",
   "outputs": [],
   "source": [
    "def compute_metrics(eval_pred):\n",
    "    load_accuracy = evaluate.load(\"accuracy\")\n",
    "\n",
    "    logits, labels = eval_pred\n",
    "    predictions = np.argmax(logits, axis=-1)\n",
    "    accuracy = load_accuracy.compute(predictions=predictions, references=labels)[\"accuracy\"]\n",
    "    return {\"accuracy\": accuracy, }"
   ],
   "metadata": {
    "collapsed": false,
    "ExecuteTime": {
     "end_time": "2024-03-23T03:41:45.893443Z",
     "start_time": "2024-03-23T03:41:45.878439Z"
    }
   },
   "id": "8de6d6c8c6cd94e8",
   "execution_count": 11
  },
  {
   "cell_type": "code",
   "outputs": [],
   "source": [
    "model_id = 'kreimben/bert-base-uncase-sentiment-analysis'"
   ],
   "metadata": {
    "collapsed": false,
    "ExecuteTime": {
     "end_time": "2024-03-23T03:41:45.908949Z",
     "start_time": "2024-03-23T03:41:45.894444Z"
    }
   },
   "id": "63739e1dc944ab61",
   "execution_count": 12
  },
  {
   "cell_type": "code",
   "outputs": [],
   "source": [
    "training_args = TrainingArguments(\n",
    "    output_dir=\"./saved_training/bert_lora_peft\",\n",
    "    evaluation_strategy=\"epoch\",\n",
    "    save_strategy=\"epoch\",\n",
    "    load_best_model_at_end=True,\n",
    "    push_to_hub=True,\n",
    "    hub_token=os.getenv('HUGGINGFACE_WRITE_TOKEN'),\n",
    "    hub_model_id=model_id.split('/')[1],\n",
    "    hub_strategy='end',\n",
    "    warmup_steps=1000,\n",
    "    do_train=True,\n",
    "    do_eval=True,\n",
    "    bf16=True,\n",
    ")"
   ],
   "metadata": {
    "collapsed": false,
    "ExecuteTime": {
     "end_time": "2024-03-23T03:41:45.924954Z",
     "start_time": "2024-03-23T03:41:45.909950Z"
    }
   },
   "id": "f23f7827adc8399c",
   "execution_count": 13
  },
  {
   "cell_type": "code",
   "outputs": [],
   "source": [
    "data_collator = DataCollatorWithPadding(tokenizer=tokenizer)"
   ],
   "metadata": {
    "collapsed": false,
    "ExecuteTime": {
     "end_time": "2024-03-23T03:41:45.940957Z",
     "start_time": "2024-03-23T03:41:45.926955Z"
    }
   },
   "id": "58906c6bec470a35",
   "execution_count": 14
  },
  {
   "cell_type": "code",
   "outputs": [
    {
     "name": "stderr",
     "output_type": "stream",
     "text": [
      "C:\\Users\\aksid\\PycharmProjects\\ReviewCategoriser\\venv\\lib\\site-packages\\accelerate\\accelerator.py:432: FutureWarning: Passing the following arguments to `Accelerator` is deprecated and will be removed in version 1.0 of Accelerate: dict_keys(['dispatch_batches', 'split_batches', 'even_batches', 'use_seedable_sampler']). Please pass an `accelerate.DataLoaderConfiguration` instead: \n",
      "dataloader_config = DataLoaderConfiguration(dispatch_batches=None, split_batches=False, even_batches=True, use_seedable_sampler=True)\n",
      "  warnings.warn(\n"
     ]
    }
   ],
   "source": [
    "trainer = Trainer(\n",
    "    model=model,\n",
    "    args=training_args,\n",
    "    train_dataset=tokenized_train,\n",
    "    eval_dataset=tokenized_test,\n",
    "    tokenizer=tokenizer,\n",
    "    data_collator=data_collator,\n",
    "    compute_metrics=compute_metrics,\n",
    ")"
   ],
   "metadata": {
    "collapsed": false,
    "ExecuteTime": {
     "end_time": "2024-03-23T03:41:46.321063Z",
     "start_time": "2024-03-23T03:41:45.941957Z"
    }
   },
   "id": "ff5d224b8e3eebf2",
   "execution_count": 15
  },
  {
   "cell_type": "code",
   "outputs": [
    {
     "data": {
      "text/plain": "<IPython.core.display.HTML object>",
      "text/html": "\n    <div>\n      \n      <progress value='9375' max='9375' style='width:300px; height:20px; vertical-align: middle;'></progress>\n      [9375/9375 21:09, Epoch 3/3]\n    </div>\n    <table border=\"1\" class=\"dataframe\">\n  <thead>\n <tr style=\"text-align: left;\">\n      <th>Epoch</th>\n      <th>Training Loss</th>\n      <th>Validation Loss</th>\n      <th>Accuracy</th>\n    </tr>\n  </thead>\n  <tbody>\n    <tr>\n      <td>1</td>\n      <td>0.284300</td>\n      <td>0.237931</td>\n      <td>0.917200</td>\n    </tr>\n    <tr>\n      <td>2</td>\n      <td>0.259100</td>\n      <td>0.234216</td>\n      <td>0.922160</td>\n    </tr>\n    <tr>\n      <td>3</td>\n      <td>0.244200</td>\n      <td>0.228641</td>\n      <td>0.925440</td>\n    </tr>\n  </tbody>\n</table><p>"
     },
     "metadata": {},
     "output_type": "display_data"
    },
    {
     "name": "stdout",
     "output_type": "stream",
     "text": [
      "CPU times: total: 8min 45s\n",
      "Wall time: 21min 10s\n"
     ]
    }
   ],
   "source": [
    "%%time\n",
    "\n",
    "training_result = trainer.train()"
   ],
   "metadata": {
    "collapsed": false,
    "ExecuteTime": {
     "end_time": "2024-03-23T04:02:56.693321Z",
     "start_time": "2024-03-23T03:41:46.322061Z"
    }
   },
   "id": "6dde851f85d5479f",
   "execution_count": 16
  },
  {
   "cell_type": "code",
   "outputs": [],
   "source": [
    "# compute train results\n",
    "metrics = training_result.metrics\n",
    "max_train_samples = len(tokenized_train)\n",
    "metrics[\"train_samples\"] = min(max_train_samples, len(tokenized_train))"
   ],
   "metadata": {
    "collapsed": false,
    "ExecuteTime": {
     "end_time": "2024-03-23T04:02:56.709325Z",
     "start_time": "2024-03-23T04:02:56.694320Z"
    }
   },
   "id": "5f455d330a592079",
   "execution_count": 17
  },
  {
   "cell_type": "code",
   "outputs": [
    {
     "data": {
      "text/plain": "<IPython.core.display.HTML object>",
      "text/html": "\n    <div>\n      \n      <progress value='3125' max='3125' style='width:300px; height:20px; vertical-align: middle;'></progress>\n      [3125/3125 01:56]\n    </div>\n    "
     },
     "metadata": {},
     "output_type": "display_data"
    }
   ],
   "source": [
    "# compute evaluation results\n",
    "metrics = trainer.evaluate()\n",
    "max_val_samples = len(tokenized_test)\n",
    "metrics[\"eval_samples\"] = min(max_val_samples, len(tokenized_test))"
   ],
   "metadata": {
    "collapsed": false,
    "ExecuteTime": {
     "end_time": "2024-03-23T04:04:54.799Z",
     "start_time": "2024-03-23T04:02:56.710325Z"
    }
   },
   "id": "8302930f0a73930",
   "execution_count": 18
  },
  {
   "cell_type": "code",
   "outputs": [
    {
     "data": {
      "text/plain": "{'eval_loss': 0.22864128649234772,\n 'eval_accuracy': 0.92544,\n 'eval_runtime': 118.0727,\n 'eval_samples_per_second': 211.734,\n 'eval_steps_per_second': 26.467,\n 'epoch': 3.0,\n 'eval_samples': 25000}"
     },
     "execution_count": 19,
     "metadata": {},
     "output_type": "execute_result"
    }
   ],
   "source": [
    "metrics"
   ],
   "metadata": {
    "collapsed": false,
    "ExecuteTime": {
     "end_time": "2024-03-23T04:04:54.815004Z",
     "start_time": "2024-03-23T04:04:54.800Z"
    }
   },
   "id": "72c0eedb041ba4c8",
   "execution_count": 19
  },
  {
   "cell_type": "code",
   "outputs": [
    {
     "data": {
      "text/plain": "README.md:   0%|          | 0.00/21.0 [00:00<?, ?B/s]",
      "application/vnd.jupyter.widget-view+json": {
       "version_major": 2,
       "version_minor": 0,
       "model_id": "2f8c21340950476b9c2a6ded5e44d0a8"
      }
     },
     "metadata": {},
     "output_type": "display_data"
    },
    {
     "name": "stderr",
     "output_type": "stream",
     "text": [
      "C:\\Users\\aksid\\PycharmProjects\\ReviewCategoriser\\venv\\lib\\site-packages\\huggingface_hub\\file_download.py:149: UserWarning: `huggingface_hub` cache-system uses symlinks by default to efficiently store duplicated files but your machine does not support them in C:\\Users\\aksid\\.cache\\huggingface\\hub\\models--kreimben--bert-base-uncase-sentiment-analysis. Caching files will still work but in a degraded version that might require more space on your disk. This warning can be disabled by setting the `HF_HUB_DISABLE_SYMLINKS_WARNING` environment variable. For more details, see https://huggingface.co/docs/huggingface_hub/how-to-cache#limitations.\n",
      "To support symlinks on Windows, you either need to activate Developer Mode or to run Python as an administrator. In order to see activate developer mode, see this article: https://docs.microsoft.com/en-us/windows/apps/get-started/enable-your-device-for-development\n",
      "  warnings.warn(message)\n"
     ]
    },
    {
     "data": {
      "text/plain": "adapter_model.safetensors:   0%|          | 0.00/1.19M [00:00<?, ?B/s]",
      "application/vnd.jupyter.widget-view+json": {
       "version_major": 2,
       "version_minor": 0,
       "model_id": "3a61fd48846a4cf8adcbfa80276f7fb8"
      }
     },
     "metadata": {},
     "output_type": "display_data"
    },
    {
     "data": {
      "text/plain": "CommitInfo(commit_url='https://huggingface.co/kreimben/bert-base-uncase-sentiment-analysis/commit/3fc5f3381b026c1c069acb228519bb6360db6a99', commit_message='Adjust bf16 for mixed-precision training', commit_description='', oid='3fc5f3381b026c1c069acb228519bb6360db6a99', pr_url=None, pr_revision=None, pr_num=None)"
     },
     "execution_count": 24,
     "metadata": {},
     "output_type": "execute_result"
    }
   ],
   "source": [
    "model.push_to_hub('kreimben/bert-base-uncase-sentiment-analysis',\n",
    "                  commit_message='Adjust bf16 for mixed-precision training',\n",
    "                  token=os.getenv('HUGGINGFACE_WRITE_TOKEN'),\n",
    "                  )"
   ],
   "metadata": {
    "collapsed": false,
    "ExecuteTime": {
     "end_time": "2024-03-23T07:33:46.598428Z",
     "start_time": "2024-03-23T07:33:42.734350Z"
    }
   },
   "id": "f13bc5cbef413ba3",
   "execution_count": 24
  },
  {
   "cell_type": "markdown",
   "source": [
    "### Test!"
   ],
   "metadata": {
    "collapsed": false
   },
   "id": "ff3eb16d8ae8e71d"
  },
  {
   "cell_type": "code",
   "outputs": [
    {
     "data": {
      "text/plain": "\"Brilliant film and excellent acting from Eliza Dushku! I liked her even before when I watched Tru Calling. :) She is not very famous but very charming. Her best roles are acting scary in my opinion. For the moment there are too many artificial movies full of tragedies and sci-fi... not like this one...great script...tragedy...fear...and of course Eliza Dushku. Irecommend you this film as one of the good ones...because it's original...not one of the same old FBI movies and investigations that you wish you never watched to the end. The original is always the best decision...<br /><br />Great MOVIE!!! ENJOY watching it!!!\""
     },
     "execution_count": 25,
     "metadata": {},
     "output_type": "execute_result"
    }
   ],
   "source": [
    "import random\n",
    "\n",
    "N = len(tokenized_unsupervised)\n",
    "\n",
    "idx = random.randint(1, N)\n",
    "\n",
    "example = tokenized_unsupervised[idx]\n",
    "text = example['text']\n",
    "text"
   ],
   "metadata": {
    "collapsed": false,
    "ExecuteTime": {
     "end_time": "2024-03-23T07:33:57.332706Z",
     "start_time": "2024-03-23T07:33:57.322703Z"
    }
   },
   "id": "3bbe84616ba5dbe5",
   "execution_count": 25
  },
  {
   "cell_type": "code",
   "outputs": [],
   "source": [
    "tokenised = tokenizer(text, return_tensors='pt')\n",
    "model = model.to('cpu')\n",
    "res = model(**tokenised)"
   ],
   "metadata": {
    "collapsed": false,
    "ExecuteTime": {
     "end_time": "2024-03-23T07:33:58.012400Z",
     "start_time": "2024-03-23T07:33:57.626289Z"
    }
   },
   "id": "9c753a8f4b629786",
   "execution_count": 26
  },
  {
   "cell_type": "code",
   "outputs": [
    {
     "data": {
      "text/plain": "tensor(1)"
     },
     "execution_count": 27,
     "metadata": {},
     "output_type": "execute_result"
    }
   ],
   "source": [
    "import torch.nn.functional as F\n",
    "\n",
    "probabilities = F.softmax(res.logits, dim=1)\n",
    "predicted_class = probabilities.argmax(dim=1)\n",
    "predicted_class[0]"
   ],
   "metadata": {
    "collapsed": false,
    "ExecuteTime": {
     "end_time": "2024-03-23T07:33:58.328983Z",
     "start_time": "2024-03-23T07:33:58.317980Z"
    }
   },
   "id": "2cdfb7dcd1097ae2",
   "execution_count": 27
  },
  {
   "cell_type": "code",
   "outputs": [],
   "source": [
    "model.save_pretrained('saved_training/bert-base-uncased-sentiment-analysis')"
   ],
   "metadata": {
    "collapsed": false,
    "ExecuteTime": {
     "end_time": "2024-03-23T07:34:49.633230Z",
     "start_time": "2024-03-23T07:34:48.816264Z"
    }
   },
   "id": "b9eb0653ed3674a4",
   "execution_count": 28
  },
  {
   "cell_type": "code",
   "outputs": [],
   "source": [],
   "metadata": {
    "collapsed": false
   },
   "id": "a89409684d1fb0a5"
  }
 ],
 "metadata": {
  "kernelspec": {
   "display_name": "Python 3",
   "language": "python",
   "name": "python3"
  },
  "language_info": {
   "codemirror_mode": {
    "name": "ipython",
    "version": 2
   },
   "file_extension": ".py",
   "mimetype": "text/x-python",
   "name": "python",
   "nbconvert_exporter": "python",
   "pygments_lexer": "ipython2",
   "version": "2.7.6"
  }
 },
 "nbformat": 4,
 "nbformat_minor": 5
}
