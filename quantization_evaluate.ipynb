{
 "cells": [
  {
   "cell_type": "code",
   "outputs": [],
   "source": [
    "import evaluate\n",
    "import pandas as pd\n",
    "import torch\n",
    "from datasets import load_dataset\n",
    "from dotenv import load_dotenv\n",
    "from evaluate import evaluator\n",
    "from transformers import BitsAndBytesConfig, AutoTokenizer, AutoModelForSequenceClassification, pipeline"
   ],
   "metadata": {
    "collapsed": false,
    "ExecuteTime": {
     "end_time": "2024-03-27T04:45:21.807576Z",
     "start_time": "2024-03-27T04:45:21.804575Z"
    }
   },
   "id": "3e65a5376f83b774",
   "execution_count": 7
  },
  {
   "cell_type": "code",
   "outputs": [
    {
     "data": {
      "text/plain": "True"
     },
     "execution_count": 2,
     "metadata": {},
     "output_type": "execute_result"
    }
   ],
   "source": [
    "load_dotenv()"
   ],
   "metadata": {
    "collapsed": false,
    "ExecuteTime": {
     "end_time": "2024-03-27T04:41:53.022884Z",
     "start_time": "2024-03-27T04:41:53.007881Z"
    }
   },
   "id": "11f772f6032445c4",
   "execution_count": 2
  },
  {
   "cell_type": "markdown",
   "source": [
    "## Load the model. Using pretrained model with quantization. Test for it's performance."
   ],
   "metadata": {
    "collapsed": false
   },
   "id": "4e91e5a09a1415cf"
  },
  {
   "cell_type": "code",
   "outputs": [],
   "source": [
    "bnb_config = BitsAndBytesConfig(\n",
    "    load_in_4bit=True,\n",
    "    bnb_4bit_quant_type=\"nf4\",\n",
    "    bnb_4bit_use_double_quant=True,\n",
    "    bnb_4bit_compute_dtype=torch.bfloat16,\n",
    "    bnb_4bit_weight=True,\n",
    "    bnb_4bit_activation=True\n",
    ")"
   ],
   "metadata": {
    "collapsed": false,
    "ExecuteTime": {
     "end_time": "2024-03-27T04:41:53.037887Z",
     "start_time": "2024-03-27T04:41:53.023885Z"
    }
   },
   "id": "c0636331122d3b70",
   "execution_count": 3
  },
  {
   "cell_type": "code",
   "outputs": [],
   "source": [
    "models = [\n",
    "    'saved_model/bert-base-peft',\n",
    "]"
   ],
   "metadata": {
    "collapsed": false,
    "ExecuteTime": {
     "end_time": "2024-03-27T04:41:53.053892Z",
     "start_time": "2024-03-27T04:41:53.038888Z"
    }
   },
   "id": "16850ce70ad2f69a",
   "execution_count": 4
  },
  {
   "cell_type": "code",
   "outputs": [
    {
     "name": "stderr",
     "output_type": "stream",
     "text": [
      "`low_cpu_mem_usage` was None, now set to True since model is quantized.\n",
      "Some weights of BertForSequenceClassification were not initialized from the model checkpoint at bert-base-uncased and are newly initialized: ['classifier.bias', 'classifier.weight']\n",
      "You should probably TRAIN this model on a down-stream task to be able to use it for predictions and inference.\n"
     ]
    },
    {
     "ename": "NameError",
     "evalue": "name 'pd' is not defined",
     "output_type": "error",
     "traceback": [
      "\u001B[1;31m---------------------------------------------------------------------------\u001B[0m",
      "\u001B[1;31mNameError\u001B[0m                                 Traceback (most recent call last)",
      "File \u001B[1;32m<timed exec>:19\u001B[0m\n",
      "\u001B[1;31mNameError\u001B[0m: name 'pd' is not defined"
     ]
    }
   ],
   "source": [
    "%%time\n",
    "\n",
    "data = load_dataset(\"imdb\", split=\"test\").shuffle(seed=42).select(range(1000))\n",
    "task_evaluator = evaluator('sentiment-analysis')\n",
    "results = []\n",
    "\n",
    "for model_id in models:\n",
    "    tokenizer = AutoTokenizer.from_pretrained(model_id)\n",
    "    model = AutoModelForSequenceClassification.from_pretrained(\n",
    "        model_id,\n",
    "        quantization_config=bnb_config,\n",
    "    )\n",
    "    eval_results = task_evaluator.compute(\n",
    "        model_or_pipeline=pipeline('sentiment-analysis', model=model, tokenizer=tokenizer),\n",
    "        data=data,\n",
    "        label_mapping={\"LABEL_0\": 0, \"LABEL_1\": 1},\n",
    "        metric=evaluate.combine([\"accuracy\", \"recall\", \"precision\", \"f1\"]),\n",
    "    )\n",
    "    results.append(eval_results)"
   ],
   "metadata": {
    "collapsed": false,
    "ExecuteTime": {
     "end_time": "2024-03-27T04:44:37.993472Z",
     "start_time": "2024-03-27T04:43:42.179770Z"
    }
   },
   "id": "846441d2c6d4c578",
   "execution_count": 6
  },
  {
   "cell_type": "code",
   "outputs": [
    {
     "data": {
      "text/plain": "                            accuracy    recall  precision        f1  \\\nsaved_model/bert-base-peft     0.917  0.905738   0.922756  0.914168   \n\n                            total_time_in_seconds  samples_per_second  \\\nsaved_model/bert-base-peft              32.854063           30.437635   \n\n                            latency_in_seconds  \nsaved_model/bert-base-peft            0.032854  ",
      "text/html": "<div>\n<style scoped>\n    .dataframe tbody tr th:only-of-type {\n        vertical-align: middle;\n    }\n\n    .dataframe tbody tr th {\n        vertical-align: top;\n    }\n\n    .dataframe thead th {\n        text-align: right;\n    }\n</style>\n<table border=\"1\" class=\"dataframe\">\n  <thead>\n    <tr style=\"text-align: right;\">\n      <th></th>\n      <th>accuracy</th>\n      <th>recall</th>\n      <th>precision</th>\n      <th>f1</th>\n      <th>total_time_in_seconds</th>\n      <th>samples_per_second</th>\n      <th>latency_in_seconds</th>\n    </tr>\n  </thead>\n  <tbody>\n    <tr>\n      <th>saved_model/bert-base-peft</th>\n      <td>0.917</td>\n      <td>0.905738</td>\n      <td>0.922756</td>\n      <td>0.914168</td>\n      <td>32.854063</td>\n      <td>30.437635</td>\n      <td>0.032854</td>\n    </tr>\n  </tbody>\n</table>\n</div>"
     },
     "execution_count": 8,
     "metadata": {},
     "output_type": "execute_result"
    }
   ],
   "source": [
    "df = pd.DataFrame(results, index=models)\n",
    "df[[\"accuracy\", \"recall\", \"precision\", \"f1\", \"total_time_in_seconds\", 'samples_per_second', 'latency_in_seconds']]"
   ],
   "metadata": {
    "collapsed": false,
    "ExecuteTime": {
     "end_time": "2024-03-27T04:45:30.405544Z",
     "start_time": "2024-03-27T04:45:30.370033Z"
    }
   },
   "id": "1b604aaa74795471",
   "execution_count": 8
  },
  {
   "cell_type": "code",
   "outputs": [],
   "source": [],
   "metadata": {
    "collapsed": false
   },
   "id": "f25d94d51d415adc"
  }
 ],
 "metadata": {
  "kernelspec": {
   "display_name": "Python 3",
   "language": "python",
   "name": "python3"
  },
  "language_info": {
   "codemirror_mode": {
    "name": "ipython",
    "version": 2
   },
   "file_extension": ".py",
   "mimetype": "text/x-python",
   "name": "python",
   "nbconvert_exporter": "python",
   "pygments_lexer": "ipython2",
   "version": "2.7.6"
  }
 },
 "nbformat": 4,
 "nbformat_minor": 5
}
