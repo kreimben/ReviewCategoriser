{
 "cells": [
  {
   "cell_type": "code",
   "outputs": [],
   "source": [
    "import evaluate\n",
    "import pandas as pd\n",
    "import torch\n",
    "from datasets import load_dataset\n",
    "from dotenv import load_dotenv\n",
    "from evaluate import evaluator\n",
    "from transformers import BitsAndBytesConfig, AutoTokenizer, AutoModelForSequenceClassification, pipeline\n"
   ],
   "metadata": {
    "collapsed": false,
    "ExecuteTime": {
     "end_time": "2024-03-28T05:53:05.697943Z",
     "start_time": "2024-03-28T05:53:01.997368Z"
    }
   },
   "id": "3e65a5376f83b774",
   "execution_count": 1
  },
  {
   "cell_type": "code",
   "outputs": [
    {
     "data": {
      "text/plain": "True"
     },
     "execution_count": 2,
     "metadata": {},
     "output_type": "execute_result"
    }
   ],
   "source": [
    "load_dotenv()"
   ],
   "metadata": {
    "collapsed": false,
    "ExecuteTime": {
     "end_time": "2024-03-28T05:53:05.713946Z",
     "start_time": "2024-03-28T05:53:05.698942Z"
    }
   },
   "id": "11f772f6032445c4",
   "execution_count": 2
  },
  {
   "cell_type": "markdown",
   "source": [
    "## Load the model. Using pretrained model with quantization. Test for it's performance."
   ],
   "metadata": {
    "collapsed": false
   },
   "id": "4e91e5a09a1415cf"
  },
  {
   "cell_type": "code",
   "outputs": [],
   "source": [
    "models = [\n",
    "    'peft/bert-base-uncased',\n",
    "    'peft/bert-large-uncased',\n",
    "    # 'peft/roberta-base',\n",
    "    # 'peft/roberta-large',\n",
    "    'peft/distilbert-base-uncased',\n",
    "]"
   ],
   "metadata": {
    "collapsed": false,
    "ExecuteTime": {
     "end_time": "2024-03-28T06:06:24.522670Z",
     "start_time": "2024-03-28T06:06:24.510667Z"
    }
   },
   "id": "16850ce70ad2f69a",
   "execution_count": 11
  },
  {
   "cell_type": "code",
   "outputs": [],
   "source": [
    "data = load_dataset(\"imdb\", split=\"test\").shuffle(seed=42).select(range(1000))\n",
    "task_evaluator = evaluator('sentiment-analysis')"
   ],
   "metadata": {
    "collapsed": false,
    "ExecuteTime": {
     "end_time": "2024-03-28T05:53:37.754568Z",
     "start_time": "2024-03-28T05:53:21.516072Z"
    }
   },
   "id": "5e9cab2a10053278",
   "execution_count": 5
  },
  {
   "cell_type": "code",
   "outputs": [],
   "source": [
    "%%time\n",
    "\n",
    "# Without quantization \n",
    "results = []\n",
    "\n",
    "for model_id in models:\n",
    "    tokenizer = AutoTokenizer.from_pretrained(model_id)\n",
    "    model = AutoModelForSequenceClassification.from_pretrained(\n",
    "        model_id,\n",
    "        num_labels=2,\n",
    "    )\n",
    "    eval_results = task_evaluator.compute(\n",
    "        model_or_pipeline=pipeline('sentiment-analysis', model=model, tokenizer=tokenizer),\n",
    "        data=data,\n",
    "        label_mapping={\"LABEL_0\": 0, \"LABEL_1\": 1},\n",
    "        metric=evaluate.combine([\"accuracy\", \"recall\", \"precision\", \"f1\"]),\n",
    "    )\n",
    "    print(f'{model_id=} {eval_results=}')\n",
    "    results.append(eval_results)"
   ],
   "metadata": {
    "collapsed": false
   },
   "id": "b389d05095cc5562",
   "execution_count": null
  },
  {
   "cell_type": "code",
   "outputs": [],
   "source": [
    "bnb_config = BitsAndBytesConfig(\n",
    "    load_in_4bit=True,\n",
    "    bnb_4bit_quant_type=\"nf4\",\n",
    "    bnb_4bit_use_double_quant=True,\n",
    "    bnb_4bit_compute_dtype=torch.bfloat16,\n",
    "    bnb_4bit_weight=True,\n",
    "    bnb_4bit_activation=True\n",
    ")"
   ],
   "metadata": {
    "collapsed": false,
    "ExecuteTime": {
     "end_time": "2024-03-28T05:58:45.747029Z",
     "start_time": "2024-03-28T05:58:45.729025Z"
    }
   },
   "id": "c0636331122d3b70",
   "execution_count": 7
  },
  {
   "cell_type": "code",
   "outputs": [
    {
     "name": "stderr",
     "output_type": "stream",
     "text": [
      "`low_cpu_mem_usage` was None, now set to True since model is quantized.\n",
      "Some weights of BertForSequenceClassification were not initialized from the model checkpoint at bert-base-uncased and are newly initialized: ['classifier.bias', 'classifier.weight']\n",
      "You should probably TRAIN this model on a down-stream task to be able to use it for predictions and inference.\n"
     ]
    },
    {
     "name": "stdout",
     "output_type": "stream",
     "text": [
      "model_id='peft/bert-base-uncased' eval_results={'accuracy': 0.916, 'recall': 0.9057377049180327, 'precision': 0.9208333333333333, 'f1': 0.9132231404958677, 'total_time_in_seconds': 37.72987239994109, 'samples_per_second': 26.504197771990384, 'latency_in_seconds': 0.037729872399941085}\n"
     ]
    },
    {
     "name": "stderr",
     "output_type": "stream",
     "text": [
      "`low_cpu_mem_usage` was None, now set to True since model is quantized.\n",
      "Some weights of BertForSequenceClassification were not initialized from the model checkpoint at bert-large-uncased and are newly initialized: ['classifier.bias', 'classifier.weight']\n",
      "You should probably TRAIN this model on a down-stream task to be able to use it for predictions and inference.\n",
      "`low_cpu_mem_usage` was None, now set to True since model is quantized.\n"
     ]
    },
    {
     "name": "stdout",
     "output_type": "stream",
     "text": [
      "model_id='peft/bert-large-uncased' eval_results={'accuracy': 0.924, 'recall': 0.9282786885245902, 'precision': 0.917004048582996, 'f1': 0.9226069246435845, 'total_time_in_seconds': 66.75712840002961, 'samples_per_second': 14.979673691290118, 'latency_in_seconds': 0.06675712840002962}\n"
     ]
    },
    {
     "name": "stderr",
     "output_type": "stream",
     "text": [
      "Some weights of DistilBertForSequenceClassification were not initialized from the model checkpoint at distilbert-base-uncased and are newly initialized: ['classifier.bias', 'classifier.weight', 'pre_classifier.bias', 'pre_classifier.weight']\n",
      "You should probably TRAIN this model on a down-stream task to be able to use it for predictions and inference.\n"
     ]
    },
    {
     "name": "stdout",
     "output_type": "stream",
     "text": [
      "model_id='peft/distilbert-base-uncased' eval_results={'accuracy': 0.856, 'recall': 0.8278688524590164, 'precision': 0.8706896551724138, 'f1': 0.8487394957983193, 'total_time_in_seconds': 18.67440090002492, 'samples_per_second': 53.54924130383564, 'latency_in_seconds': 0.01867440090002492}\n",
      "CPU times: total: 52 s\n",
      "Wall time: 2min 21s\n"
     ]
    }
   ],
   "source": [
    "%%time\n",
    "\n",
    "# With quantization\n",
    "quantization_results = []\n",
    "\n",
    "for model_id in models:\n",
    "    model = AutoModelForSequenceClassification.from_pretrained(model_id, quantization_config=bnb_config)\n",
    "    tokenizer = AutoTokenizer.from_pretrained(model_id)\n",
    "\n",
    "    eval_results = task_evaluator.compute(\n",
    "        model_or_pipeline=pipeline('sentiment-analysis', model=model, tokenizer=tokenizer),\n",
    "        data=data,\n",
    "        label_mapping={\"LABEL_0\": 0, \"LABEL_1\": 1},\n",
    "        metric=evaluate.combine([\"accuracy\", \"recall\", \"precision\", \"f1\"]),\n",
    "    )\n",
    "    print(f'{model_id=} {eval_results=}')\n",
    "    quantization_results.append(eval_results)"
   ],
   "metadata": {
    "collapsed": false,
    "ExecuteTime": {
     "end_time": "2024-03-28T06:08:49.352808Z",
     "start_time": "2024-03-28T06:06:27.741244Z"
    }
   },
   "id": "846441d2c6d4c578",
   "execution_count": 12
  },
  {
   "cell_type": "code",
   "outputs": [],
   "source": [
    "df = pd.DataFrame(results, index=models)\n",
    "df[[\"accuracy\", \"recall\", \"precision\", \"f1\", \"total_time_in_seconds\", 'samples_per_second', 'latency_in_seconds']]"
   ],
   "metadata": {
    "collapsed": false
   },
   "id": "1b604aaa74795471",
   "execution_count": null
  },
  {
   "cell_type": "code",
   "outputs": [
    {
     "data": {
      "text/plain": "                              accuracy    recall  precision        f1  \\\npeft/bert-base-uncased           0.916  0.905738   0.920833  0.913223   \npeft/bert-large-uncased          0.924  0.928279   0.917004  0.922607   \npeft/distilbert-base-uncased     0.856  0.827869   0.870690  0.848739   \n\n                              total_time_in_seconds  samples_per_second  \\\npeft/bert-base-uncased                    37.729872           26.504198   \npeft/bert-large-uncased                   66.757128           14.979674   \npeft/distilbert-base-uncased              18.674401           53.549241   \n\n                              latency_in_seconds  \npeft/bert-base-uncased                  0.037730  \npeft/bert-large-uncased                 0.066757  \npeft/distilbert-base-uncased            0.018674  ",
      "text/html": "<div>\n<style scoped>\n    .dataframe tbody tr th:only-of-type {\n        vertical-align: middle;\n    }\n\n    .dataframe tbody tr th {\n        vertical-align: top;\n    }\n\n    .dataframe thead th {\n        text-align: right;\n    }\n</style>\n<table border=\"1\" class=\"dataframe\">\n  <thead>\n    <tr style=\"text-align: right;\">\n      <th></th>\n      <th>accuracy</th>\n      <th>recall</th>\n      <th>precision</th>\n      <th>f1</th>\n      <th>total_time_in_seconds</th>\n      <th>samples_per_second</th>\n      <th>latency_in_seconds</th>\n    </tr>\n  </thead>\n  <tbody>\n    <tr>\n      <th>peft/bert-base-uncased</th>\n      <td>0.916</td>\n      <td>0.905738</td>\n      <td>0.920833</td>\n      <td>0.913223</td>\n      <td>37.729872</td>\n      <td>26.504198</td>\n      <td>0.037730</td>\n    </tr>\n    <tr>\n      <th>peft/bert-large-uncased</th>\n      <td>0.924</td>\n      <td>0.928279</td>\n      <td>0.917004</td>\n      <td>0.922607</td>\n      <td>66.757128</td>\n      <td>14.979674</td>\n      <td>0.066757</td>\n    </tr>\n    <tr>\n      <th>peft/distilbert-base-uncased</th>\n      <td>0.856</td>\n      <td>0.827869</td>\n      <td>0.870690</td>\n      <td>0.848739</td>\n      <td>18.674401</td>\n      <td>53.549241</td>\n      <td>0.018674</td>\n    </tr>\n  </tbody>\n</table>\n</div>"
     },
     "execution_count": 13,
     "metadata": {},
     "output_type": "execute_result"
    }
   ],
   "source": [
    "dfq = pd.DataFrame(quantization_results, index=models)\n",
    "dfq[[\"accuracy\", \"recall\", \"precision\", \"f1\", \"total_time_in_seconds\", 'samples_per_second', 'latency_in_seconds']]"
   ],
   "metadata": {
    "collapsed": false,
    "ExecuteTime": {
     "end_time": "2024-03-28T06:09:01.919958Z",
     "start_time": "2024-03-28T06:09:01.896225Z"
    }
   },
   "id": "f25d94d51d415adc",
   "execution_count": 13
  },
  {
   "cell_type": "code",
   "outputs": [],
   "source": [],
   "metadata": {
    "collapsed": false
   },
   "id": "9e1818633ced24e1"
  }
 ],
 "metadata": {
  "kernelspec": {
   "display_name": "Python 3",
   "language": "python",
   "name": "python3"
  },
  "language_info": {
   "codemirror_mode": {
    "name": "ipython",
    "version": 2
   },
   "file_extension": ".py",
   "mimetype": "text/x-python",
   "name": "python",
   "nbconvert_exporter": "python",
   "pygments_lexer": "ipython2",
   "version": "2.7.6"
  }
 },
 "nbformat": 4,
 "nbformat_minor": 5
}
