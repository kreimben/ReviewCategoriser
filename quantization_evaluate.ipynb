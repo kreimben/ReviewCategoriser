{
 "cells": [
  {
   "cell_type": "code",
   "outputs": [],
   "source": [
    "import evaluate\n",
    "import pandas as pd\n",
    "import torch\n",
    "from datasets import load_dataset\n",
    "from dotenv import load_dotenv\n",
    "from evaluate import evaluator\n",
    "from transformers import BitsAndBytesConfig, AutoTokenizer, AutoModelForSequenceClassification, pipeline\n"
   ],
   "metadata": {
    "collapsed": false,
    "ExecuteTime": {
     "end_time": "2024-03-28T05:53:05.697943Z",
     "start_time": "2024-03-28T05:53:01.997368Z"
    }
   },
   "id": "3e65a5376f83b774",
   "execution_count": 1
  },
  {
   "cell_type": "code",
   "outputs": [
    {
     "data": {
      "text/plain": "True"
     },
     "execution_count": 2,
     "metadata": {},
     "output_type": "execute_result"
    }
   ],
   "source": [
    "load_dotenv()"
   ],
   "metadata": {
    "collapsed": false,
    "ExecuteTime": {
     "end_time": "2024-03-28T05:53:05.713946Z",
     "start_time": "2024-03-28T05:53:05.698942Z"
    }
   },
   "id": "11f772f6032445c4",
   "execution_count": 2
  },
  {
   "cell_type": "markdown",
   "source": [
    "## Load the model. Using pretrained model with quantization. Test for it's performance."
   ],
   "metadata": {
    "collapsed": false
   },
   "id": "4e91e5a09a1415cf"
  },
  {
   "cell_type": "code",
   "outputs": [],
   "source": [
    "models = [\n",
    "    'peft/bert-base-uncased',\n",
    "    'peft/bert-large-uncased',\n",
    "    'peft/roberta-base',\n",
    "    'peft/roberta-large',\n",
    "    'peft/distilbert-base-uncased',\n",
    "]"
   ],
   "metadata": {
    "collapsed": false,
    "ExecuteTime": {
     "end_time": "2024-03-28T05:53:05.728950Z",
     "start_time": "2024-03-28T05:53:05.714946Z"
    }
   },
   "id": "16850ce70ad2f69a",
   "execution_count": 3
  },
  {
   "cell_type": "code",
   "outputs": [],
   "source": [
    "data = load_dataset(\"imdb\", split=\"test\").shuffle(seed=42).select(range(1000))\n",
    "task_evaluator = evaluator('sentiment-analysis')"
   ],
   "metadata": {
    "collapsed": false,
    "ExecuteTime": {
     "end_time": "2024-03-28T05:53:37.754568Z",
     "start_time": "2024-03-28T05:53:21.516072Z"
    }
   },
   "id": "5e9cab2a10053278",
   "execution_count": 5
  },
  {
   "cell_type": "code",
   "outputs": [],
   "source": [
    "%%time\n",
    "\n",
    "# Without quantization \n",
    "results = []\n",
    "\n",
    "for model_id in models:\n",
    "    tokenizer = AutoTokenizer.from_pretrained(model_id)\n",
    "    model = AutoModelForSequenceClassification.from_pretrained(\n",
    "        model_id,\n",
    "        num_labels=2,\n",
    "    )\n",
    "    eval_results = task_evaluator.compute(\n",
    "        model_or_pipeline=pipeline('sentiment-analysis', model=model, tokenizer=tokenizer),\n",
    "        data=data,\n",
    "        label_mapping={\"LABEL_0\": 0, \"LABEL_1\": 1},\n",
    "        metric=evaluate.combine([\"accuracy\", \"recall\", \"precision\", \"f1\"]),\n",
    "    )\n",
    "    print(f'{model_id=} {eval_results=}')\n",
    "    results.append(eval_results)"
   ],
   "metadata": {
    "collapsed": false
   },
   "id": "b389d05095cc5562",
   "execution_count": null
  },
  {
   "cell_type": "code",
   "outputs": [],
   "source": [
    "bnb_config = BitsAndBytesConfig(\n",
    "    load_in_4bit=True,\n",
    "    bnb_4bit_quant_type=\"nf4\",\n",
    "    bnb_4bit_use_double_quant=True,\n",
    "    bnb_4bit_compute_dtype=torch.bfloat16,\n",
    "    bnb_4bit_weight=True,\n",
    "    bnb_4bit_activation=True\n",
    ")"
   ],
   "metadata": {
    "collapsed": false
   },
   "id": "c0636331122d3b70",
   "execution_count": 0
  },
  {
   "cell_type": "code",
   "outputs": [
    {
     "name": "stderr",
     "output_type": "stream",
     "text": [
      "The `load_in_4bit` and `load_in_8bit` arguments are deprecated and will be removed in the future versions. Please, pass a `BitsAndBytesConfig` object in `quantization_config` argument instead.\n",
      "`low_cpu_mem_usage` was None, now set to True since model is quantized.\n",
      "Some weights of BertForSequenceClassification were not initialized from the model checkpoint at bert-base-uncased and are newly initialized: ['classifier.bias', 'classifier.weight']\n",
      "You should probably TRAIN this model on a down-stream task to be able to use it for predictions and inference.\n",
      "C:\\Users\\aksid\\PycharmProjects\\ReviewCategoriser\\venv\\lib\\site-packages\\bitsandbytes\\nn\\modules.py:391: UserWarning: Input type into Linear4bit is torch.float16, but bnb_4bit_compute_dtype=torch.float32 (default). This will lead to slow inference or training speed.\n",
      "  warnings.warn('Input type into Linear4bit is torch.float16, but bnb_4bit_compute_dtype=torch.float32 (default). This will lead to slow inference or training speed.')\n",
      "C:\\Users\\aksid\\PycharmProjects\\ReviewCategoriser\\venv\\lib\\site-packages\\bitsandbytes\\nn\\modules.py:388: UserWarning: Input type into Linear4bit is torch.float16, but bnb_4bit_compute_dtype=torch.float32 (default). This will lead to slow inference.\n",
      "  warnings.warn('Input type into Linear4bit is torch.float16, but bnb_4bit_compute_dtype=torch.float32 (default). This will lead to slow inference.')\n"
     ]
    },
    {
     "name": "stdout",
     "output_type": "stream",
     "text": [
      "model_id='peft/bert-base-uncased' eval_results={'accuracy': 0.898, 'recall': 0.9467213114754098, 'precision': 0.8587360594795539, 'f1': 0.9005847953216374, 'total_time_in_seconds': 31.590575300040655, 'samples_per_second': 31.655010727161816, 'latency_in_seconds': 0.031590575300040655}\n"
     ]
    },
    {
     "name": "stderr",
     "output_type": "stream",
     "text": [
      "The `load_in_4bit` and `load_in_8bit` arguments are deprecated and will be removed in the future versions. Please, pass a `BitsAndBytesConfig` object in `quantization_config` argument instead.\n",
      "`low_cpu_mem_usage` was None, now set to True since model is quantized.\n",
      "Some weights of BertForSequenceClassification were not initialized from the model checkpoint at bert-large-uncased and are newly initialized: ['classifier.bias', 'classifier.weight']\n",
      "You should probably TRAIN this model on a down-stream task to be able to use it for predictions and inference.\n"
     ]
    }
   ],
   "source": [
    "%%time\n",
    "\n",
    "# With quantization\n",
    "quantization_results = []\n",
    "\n",
    "for model_id in models:\n",
    "    model = AutoModelForSequenceClassification.from_pretrained(model_id, load_in_4bit=True)\n",
    "    tokenizer = AutoTokenizer.from_pretrained(model_id)\n",
    "\n",
    "    # model = load_and_quantize_model(model, bnb_quantization_config=bnb_config)\n",
    "\n",
    "    eval_results = task_evaluator.compute(\n",
    "        model_or_pipeline=pipeline('sentiment-analysis', model=model, tokenizer=tokenizer),\n",
    "        data=data,\n",
    "        label_mapping={\"LABEL_0\": 0, \"LABEL_1\": 1},\n",
    "        metric=evaluate.combine([\"accuracy\", \"recall\", \"precision\", \"f1\"]),\n",
    "    )\n",
    "    print(f'{model_id=} {eval_results=}')\n",
    "    quantization_results.append(eval_results)"
   ],
   "metadata": {
    "collapsed": false,
    "is_executing": true,
    "ExecuteTime": {
     "start_time": "2024-03-28T05:53:37.755569Z"
    }
   },
   "id": "846441d2c6d4c578",
   "execution_count": null
  },
  {
   "cell_type": "code",
   "outputs": [],
   "source": [
    "df = pd.DataFrame(results, index=models)\n",
    "df[[\"accuracy\", \"recall\", \"precision\", \"f1\", \"total_time_in_seconds\", 'samples_per_second', 'latency_in_seconds']]"
   ],
   "metadata": {
    "collapsed": false
   },
   "id": "1b604aaa74795471",
   "execution_count": null
  },
  {
   "cell_type": "code",
   "outputs": [],
   "source": [
    "dfq = pd.DataFrame(quantization_results, index=models)\n",
    "dfq[[\"accuracy\", \"recall\", \"precision\", \"f1\", \"total_time_in_seconds\", 'samples_per_second', 'latency_in_seconds']]"
   ],
   "metadata": {
    "collapsed": false
   },
   "id": "f25d94d51d415adc",
   "execution_count": null
  },
  {
   "cell_type": "code",
   "outputs": [],
   "source": [],
   "metadata": {
    "collapsed": false
   },
   "id": "9e1818633ced24e1"
  }
 ],
 "metadata": {
  "kernelspec": {
   "display_name": "Python 3",
   "language": "python",
   "name": "python3"
  },
  "language_info": {
   "codemirror_mode": {
    "name": "ipython",
    "version": 2
   },
   "file_extension": ".py",
   "mimetype": "text/x-python",
   "name": "python",
   "nbconvert_exporter": "python",
   "pygments_lexer": "ipython2",
   "version": "2.7.6"
  }
 },
 "nbformat": 4,
 "nbformat_minor": 5
}
