{
 "cells": [
  {
   "cell_type": "code",
   "outputs": [],
   "source": [
    "import evaluate\n",
    "import pandas as pd\n",
    "import torch\n",
    "from datasets import load_dataset\n",
    "from dotenv import load_dotenv\n",
    "from evaluate import evaluator\n",
    "from transformers import BitsAndBytesConfig, AutoTokenizer, AutoModelForSequenceClassification, pipeline\n",
    "\n",
    "from peft import PeftConfig, PeftModel"
   ],
   "metadata": {
    "collapsed": false
   },
   "id": "3e65a5376f83b774",
   "execution_count": null
  },
  {
   "cell_type": "code",
   "outputs": [],
   "source": [
    "load_dotenv()"
   ],
   "metadata": {
    "collapsed": false
   },
   "id": "11f772f6032445c4",
   "execution_count": null
  },
  {
   "cell_type": "markdown",
   "source": [
    "## Load the model. Using pretrained model with quantization. Test for it's performance."
   ],
   "metadata": {
    "collapsed": false
   },
   "id": "4e91e5a09a1415cf"
  },
  {
   "cell_type": "code",
   "outputs": [],
   "source": [
    "bnb_config = BitsAndBytesConfig(\n",
    "    load_in_4bit=True,\n",
    "    bnb_4bit_quant_type=\"nf4\",\n",
    "    bnb_4bit_use_double_quant=True,\n",
    "    bnb_4bit_compute_dtype=torch.bfloat16,\n",
    "    bnb_4bit_weight=True,\n",
    "    bnb_4bit_activation=True\n",
    ")"
   ],
   "metadata": {
    "collapsed": false
   },
   "id": "c0636331122d3b70",
   "execution_count": null
  },
  {
   "cell_type": "code",
   "outputs": [],
   "source": [
    "models = [\n",
    "    'peft/bert-base-uncased',\n",
    "    'peft/bert-large-uncased',\n",
    "    'peft/roberta-base',\n",
    "    'peft/roberta-large',\n",
    "    # 'saved_model/distilbert-base-peft',\n",
    "]"
   ],
   "metadata": {
    "collapsed": false
   },
   "id": "16850ce70ad2f69a",
   "execution_count": null
  },
  {
   "cell_type": "code",
   "outputs": [],
   "source": [
    "%%time\n",
    "\n",
    "# Without quantization \n",
    "data = load_dataset(\"imdb\", split=\"test\").shuffle(seed=42).select(range(1000))\n",
    "task_evaluator = evaluator('sentiment-analysis')\n",
    "results = []\n",
    "\n",
    "for model_id in models:\n",
    "    tokenizer = AutoTokenizer.from_pretrained(model_id)\n",
    "    model = AutoModelForSequenceClassification.from_pretrained(\n",
    "        model_id,\n",
    "        num_labels=2,\n",
    "    )\n",
    "    eval_results = task_evaluator.compute(\n",
    "        model_or_pipeline=pipeline('sentiment-analysis', model=model, tokenizer=tokenizer),\n",
    "        data=data,\n",
    "        label_mapping={\"LABEL_0\": 0, \"LABEL_1\": 1},\n",
    "        metric=evaluate.combine([\"accuracy\", \"recall\", \"precision\", \"f1\"]),\n",
    "    )\n",
    "    print(f'{model_id=} {eval_results=}')\n",
    "    results.append(eval_results)"
   ],
   "metadata": {
    "collapsed": false,
    "is_executing": true
   },
   "id": "b389d05095cc5562",
   "execution_count": null
  },
  {
   "cell_type": "code",
   "outputs": [],
   "source": [
    "%%time\n",
    "\n",
    "# With quantization\n",
    "quantization_results = []\n",
    "\n",
    "for model_id in models:\n",
    "    peft_config = PeftConfig.from_pretrained(model_id)\n",
    "    tokenizer = AutoTokenizer.from_pretrained(model_id)\n",
    "    base_model = AutoModelForSequenceClassification.from_pretrained()\n",
    "    model = PeftModel.from_pretrained(\n",
    "        model_id=model_id,\n",
    "        quantization_config=bnb_config,\n",
    "        num_labels=2,\n",
    "    )\n",
    "    eval_results = task_evaluator.compute(\n",
    "        model_or_pipeline=pipeline('sentiment-analysis', model=model, tokenizer=tokenizer),\n",
    "        data=data,\n",
    "        label_mapping={\"LABEL_0\": 0, \"LABEL_1\": 1},\n",
    "        metric=evaluate.combine([\"accuracy\", \"recall\", \"precision\", \"f1\"]),\n",
    "    )\n",
    "    print(f'{model_id=} {eval_results=}')\n",
    "    quantization_results.append(eval_results)"
   ],
   "metadata": {
    "collapsed": false,
    "is_executing": true
   },
   "id": "846441d2c6d4c578",
   "execution_count": null
  },
  {
   "cell_type": "code",
   "outputs": [],
   "source": [
    "df = pd.DataFrame(results, index=models)\n",
    "df[[\"accuracy\", \"recall\", \"precision\", \"f1\", \"total_time_in_seconds\", 'samples_per_second', 'latency_in_seconds']]"
   ],
   "metadata": {
    "collapsed": false,
    "is_executing": true
   },
   "id": "1b604aaa74795471",
   "execution_count": null
  },
  {
   "cell_type": "code",
   "outputs": [],
   "source": [
    "dfq = pd.DataFrame(quantization_results, index=models)\n",
    "dfq[[\"accuracy\", \"recall\", \"precision\", \"f1\", \"total_time_in_seconds\", 'samples_per_second', 'latency_in_seconds']]"
   ],
   "metadata": {
    "collapsed": false,
    "is_executing": true
   },
   "id": "f25d94d51d415adc",
   "execution_count": null
  }
 ],
 "metadata": {
  "kernelspec": {
   "display_name": "Python 3",
   "language": "python",
   "name": "python3"
  },
  "language_info": {
   "codemirror_mode": {
    "name": "ipython",
    "version": 2
   },
   "file_extension": ".py",
   "mimetype": "text/x-python",
   "name": "python",
   "nbconvert_exporter": "python",
   "pygments_lexer": "ipython2",
   "version": "2.7.6"
  }
 },
 "nbformat": 4,
 "nbformat_minor": 5
}
