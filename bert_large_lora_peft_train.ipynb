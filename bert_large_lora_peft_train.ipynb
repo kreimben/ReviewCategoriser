{
 "cells": [
  {
   "cell_type": "code",
   "execution_count": 1,
   "id": "initial_id",
   "metadata": {
    "collapsed": true,
    "ExecuteTime": {
     "end_time": "2024-03-27T22:58:19.446517Z",
     "start_time": "2024-03-27T22:58:16.051284Z"
    }
   },
   "outputs": [],
   "source": [
    "import os\n",
    "\n",
    "import evaluate\n",
    "import numpy as np\n",
    "from datasets import load_dataset\n",
    "from dotenv import load_dotenv\n",
    "from peft import LoraConfig, TaskType, get_peft_model\n",
    "from transformers import TrainingArguments, Trainer, \\\n",
    "    DataCollatorWithPadding, AutoModelForSequenceClassification, AutoTokenizer"
   ]
  },
  {
   "cell_type": "code",
   "outputs": [
    {
     "data": {
      "text/plain": "True"
     },
     "execution_count": 2,
     "metadata": {},
     "output_type": "execute_result"
    }
   ],
   "source": [
    "load_dotenv()"
   ],
   "metadata": {
    "collapsed": false,
    "ExecuteTime": {
     "end_time": "2024-03-27T22:58:19.462522Z",
     "start_time": "2024-03-27T22:58:19.447518Z"
    }
   },
   "id": "fd615eb7fdbbbd23",
   "execution_count": 2
  },
  {
   "cell_type": "code",
   "outputs": [],
   "source": [
    "model_id = 'bert-large-uncased'"
   ],
   "metadata": {
    "collapsed": false,
    "ExecuteTime": {
     "end_time": "2024-03-27T22:58:19.478525Z",
     "start_time": "2024-03-27T22:58:19.463521Z"
    }
   },
   "id": "51d04e852d58285b",
   "execution_count": 3
  },
  {
   "cell_type": "code",
   "outputs": [
    {
     "name": "stderr",
     "output_type": "stream",
     "text": [
      "Some weights of BertForSequenceClassification were not initialized from the model checkpoint at bert-large-uncased and are newly initialized: ['classifier.bias', 'classifier.weight']\n",
      "You should probably TRAIN this model on a down-stream task to be able to use it for predictions and inference.\n"
     ]
    }
   ],
   "source": [
    "tokenizer = AutoTokenizer.from_pretrained(model_id, token=os.getenv('HUGGINGFACE_TOKEN'))\n",
    "model = AutoModelForSequenceClassification.from_pretrained(model_id,\n",
    "                                                           trust_remote_code=False,\n",
    "                                                           num_labels=2,\n",
    "                                                           token=os.getenv('HUGGINGFACE_TOKEN'))"
   ],
   "metadata": {
    "collapsed": false,
    "ExecuteTime": {
     "end_time": "2024-03-27T22:58:20.476487Z",
     "start_time": "2024-03-27T22:58:19.480526Z"
    }
   },
   "id": "985e14e2bb64e588",
   "execution_count": 4
  },
  {
   "cell_type": "markdown",
   "source": [
    "### Use PEFT for effeciency."
   ],
   "metadata": {
    "collapsed": false
   },
   "id": "119647ccce0757e8"
  },
  {
   "cell_type": "code",
   "outputs": [],
   "source": [
    "lora_config = LoraConfig(\n",
    "    task_type=TaskType.SEQ_CLS,\n",
    "    inference_mode=False,\n",
    "    r=8,\n",
    "    lora_alpha=32,\n",
    "    bias='none',\n",
    "    lora_dropout=0.1,\n",
    ")"
   ],
   "metadata": {
    "collapsed": false,
    "ExecuteTime": {
     "end_time": "2024-03-27T22:58:20.492491Z",
     "start_time": "2024-03-27T22:58:20.477487Z"
    }
   },
   "id": "76ea3715896357c6",
   "execution_count": 5
  },
  {
   "cell_type": "code",
   "outputs": [],
   "source": [
    "model = get_peft_model(model, lora_config)"
   ],
   "metadata": {
    "collapsed": false,
    "ExecuteTime": {
     "end_time": "2024-03-27T22:58:20.683544Z",
     "start_time": "2024-03-27T22:58:20.494491Z"
    }
   },
   "id": "8ba58f19ceb3b998",
   "execution_count": 6
  },
  {
   "cell_type": "code",
   "outputs": [
    {
     "data": {
      "text/plain": "PeftModelForSequenceClassification(\n  (base_model): LoraModel(\n    (model): BertForSequenceClassification(\n      (bert): BertModel(\n        (embeddings): BertEmbeddings(\n          (word_embeddings): Embedding(30522, 1024, padding_idx=0)\n          (position_embeddings): Embedding(512, 1024)\n          (token_type_embeddings): Embedding(2, 1024)\n          (LayerNorm): LayerNorm((1024,), eps=1e-12, elementwise_affine=True)\n          (dropout): Dropout(p=0.1, inplace=False)\n        )\n        (encoder): BertEncoder(\n          (layer): ModuleList(\n            (0-23): 24 x BertLayer(\n              (attention): BertAttention(\n                (self): BertSelfAttention(\n                  (query): lora.Linear(\n                    (base_layer): Linear(in_features=1024, out_features=1024, bias=True)\n                    (lora_dropout): ModuleDict(\n                      (default): Dropout(p=0.1, inplace=False)\n                    )\n                    (lora_A): ModuleDict(\n                      (default): Linear(in_features=1024, out_features=8, bias=False)\n                    )\n                    (lora_B): ModuleDict(\n                      (default): Linear(in_features=8, out_features=1024, bias=False)\n                    )\n                    (lora_embedding_A): ParameterDict()\n                    (lora_embedding_B): ParameterDict()\n                  )\n                  (key): Linear(in_features=1024, out_features=1024, bias=True)\n                  (value): lora.Linear(\n                    (base_layer): Linear(in_features=1024, out_features=1024, bias=True)\n                    (lora_dropout): ModuleDict(\n                      (default): Dropout(p=0.1, inplace=False)\n                    )\n                    (lora_A): ModuleDict(\n                      (default): Linear(in_features=1024, out_features=8, bias=False)\n                    )\n                    (lora_B): ModuleDict(\n                      (default): Linear(in_features=8, out_features=1024, bias=False)\n                    )\n                    (lora_embedding_A): ParameterDict()\n                    (lora_embedding_B): ParameterDict()\n                  )\n                  (dropout): Dropout(p=0.1, inplace=False)\n                )\n                (output): BertSelfOutput(\n                  (dense): Linear(in_features=1024, out_features=1024, bias=True)\n                  (LayerNorm): LayerNorm((1024,), eps=1e-12, elementwise_affine=True)\n                  (dropout): Dropout(p=0.1, inplace=False)\n                )\n              )\n              (intermediate): BertIntermediate(\n                (dense): Linear(in_features=1024, out_features=4096, bias=True)\n                (intermediate_act_fn): GELUActivation()\n              )\n              (output): BertOutput(\n                (dense): Linear(in_features=4096, out_features=1024, bias=True)\n                (LayerNorm): LayerNorm((1024,), eps=1e-12, elementwise_affine=True)\n                (dropout): Dropout(p=0.1, inplace=False)\n              )\n            )\n          )\n        )\n        (pooler): BertPooler(\n          (dense): Linear(in_features=1024, out_features=1024, bias=True)\n          (activation): Tanh()\n        )\n      )\n      (dropout): Dropout(p=0.1, inplace=False)\n      (classifier): ModulesToSaveWrapper(\n        (original_module): Linear(in_features=1024, out_features=2, bias=True)\n        (modules_to_save): ModuleDict(\n          (default): Linear(in_features=1024, out_features=2, bias=True)\n        )\n      )\n    )\n  )\n)"
     },
     "execution_count": 7,
     "metadata": {},
     "output_type": "execute_result"
    }
   ],
   "source": [
    "model"
   ],
   "metadata": {
    "collapsed": false,
    "ExecuteTime": {
     "end_time": "2024-03-27T22:58:20.699547Z",
     "start_time": "2024-03-27T22:58:20.684544Z"
    }
   },
   "id": "c4e1b3fec135a32b",
   "execution_count": 7
  },
  {
   "cell_type": "markdown",
   "source": [
    "### EDA"
   ],
   "metadata": {
    "collapsed": false
   },
   "id": "a965bd4581ddc06"
  },
  {
   "cell_type": "code",
   "outputs": [
    {
     "data": {
      "text/plain": "DatasetDict({\n    train: Dataset({\n        features: ['text', 'label'],\n        num_rows: 25000\n    })\n    test: Dataset({\n        features: ['text', 'label'],\n        num_rows: 25000\n    })\n    unsupervised: Dataset({\n        features: ['text', 'label'],\n        num_rows: 50000\n    })\n})"
     },
     "execution_count": 8,
     "metadata": {},
     "output_type": "execute_result"
    }
   ],
   "source": [
    "imdb = load_dataset(\"imdb\")\n",
    "imdb"
   ],
   "metadata": {
    "collapsed": false,
    "ExecuteTime": {
     "end_time": "2024-03-27T22:58:39.060243Z",
     "start_time": "2024-03-27T22:58:20.700547Z"
    }
   },
   "id": "e1ff1b3991863bb5",
   "execution_count": 8
  },
  {
   "cell_type": "code",
   "outputs": [],
   "source": [
    "def preprocess_function(examples):\n",
    "    # Tokenize the reviews\n",
    "    text_tokenized = tokenizer(examples['text'], padding='max_length', truncation=True)\n",
    "    return text_tokenized\n",
    "\n",
    "\n",
    "tokenized_train = imdb['train'].map(preprocess_function, batched=True)\n",
    "tokenized_test = imdb['test'].map(preprocess_function, batched=True)\n",
    "tokenized_unsupervised = imdb['unsupervised'].map(preprocess_function, batched=True)"
   ],
   "metadata": {
    "collapsed": false,
    "ExecuteTime": {
     "end_time": "2024-03-27T22:58:39.660408Z",
     "start_time": "2024-03-27T22:58:39.061244Z"
    }
   },
   "id": "9645864a0073bcdb",
   "execution_count": 9
  },
  {
   "cell_type": "code",
   "outputs": [
    {
     "data": {
      "text/plain": "Dataset({\n    features: ['text', 'label', 'input_ids', 'token_type_ids', 'attention_mask'],\n    num_rows: 25000\n})"
     },
     "execution_count": 10,
     "metadata": {},
     "output_type": "execute_result"
    }
   ],
   "source": [
    "tokenized_train"
   ],
   "metadata": {
    "collapsed": false,
    "ExecuteTime": {
     "end_time": "2024-03-27T22:58:39.676412Z",
     "start_time": "2024-03-27T22:58:39.662408Z"
    }
   },
   "id": "1f3a907c20dfc06b",
   "execution_count": 10
  },
  {
   "cell_type": "code",
   "outputs": [
    {
     "data": {
      "text/plain": "Dataset({\n    features: ['text', 'label', 'input_ids', 'token_type_ids', 'attention_mask'],\n    num_rows: 25000\n})"
     },
     "execution_count": 11,
     "metadata": {},
     "output_type": "execute_result"
    }
   ],
   "source": [
    "tokenized_test"
   ],
   "metadata": {
    "collapsed": false,
    "ExecuteTime": {
     "end_time": "2024-03-27T22:58:39.692416Z",
     "start_time": "2024-03-27T22:58:39.677412Z"
    }
   },
   "id": "65c27fd89e732365",
   "execution_count": 11
  },
  {
   "cell_type": "code",
   "outputs": [],
   "source": [
    "def compute_metrics(eval_pred):\n",
    "    load_accuracy = evaluate.load(\"accuracy\")\n",
    "\n",
    "    logits, labels = eval_pred\n",
    "    predictions = np.argmax(logits, axis=-1)\n",
    "    accuracy = load_accuracy.compute(predictions=predictions, references=labels)[\"accuracy\"]\n",
    "    return {\"accuracy\": accuracy, }"
   ],
   "metadata": {
    "collapsed": false,
    "ExecuteTime": {
     "end_time": "2024-03-27T22:58:39.708419Z",
     "start_time": "2024-03-27T22:58:39.693415Z"
    }
   },
   "id": "8de6d6c8c6cd94e8",
   "execution_count": 12
  },
  {
   "cell_type": "code",
   "outputs": [],
   "source": [
    "training_args = TrainingArguments(\n",
    "    output_dir=\"./saved_model/training\",\n",
    "    evaluation_strategy=\"epoch\",\n",
    "    save_strategy=\"epoch\",\n",
    "    load_best_model_at_end=True,\n",
    "    warmup_steps=1000,\n",
    "    do_train=True,\n",
    "    do_eval=True,\n",
    "    bf16=True,\n",
    ")"
   ],
   "metadata": {
    "collapsed": false,
    "ExecuteTime": {
     "end_time": "2024-03-27T22:58:39.724424Z",
     "start_time": "2024-03-27T22:58:39.709420Z"
    }
   },
   "id": "f23f7827adc8399c",
   "execution_count": 13
  },
  {
   "cell_type": "code",
   "outputs": [],
   "source": [
    "data_collator = DataCollatorWithPadding(tokenizer=tokenizer)"
   ],
   "metadata": {
    "collapsed": false,
    "ExecuteTime": {
     "end_time": "2024-03-27T22:58:39.739775Z",
     "start_time": "2024-03-27T22:58:39.725424Z"
    }
   },
   "id": "58906c6bec470a35",
   "execution_count": 14
  },
  {
   "cell_type": "code",
   "outputs": [
    {
     "name": "stderr",
     "output_type": "stream",
     "text": [
      "C:\\Users\\aksid\\PycharmProjects\\ReviewCategoriser\\venv\\lib\\site-packages\\accelerate\\accelerator.py:432: FutureWarning: Passing the following arguments to `Accelerator` is deprecated and will be removed in version 1.0 of Accelerate: dict_keys(['dispatch_batches', 'split_batches', 'even_batches', 'use_seedable_sampler']). Please pass an `accelerate.DataLoaderConfiguration` instead: \n",
      "dataloader_config = DataLoaderConfiguration(dispatch_batches=None, split_batches=False, even_batches=True, use_seedable_sampler=True)\n",
      "  warnings.warn(\n"
     ]
    }
   ],
   "source": [
    "trainer = Trainer(\n",
    "    model=model,\n",
    "    args=training_args,\n",
    "    train_dataset=tokenized_train,\n",
    "    eval_dataset=tokenized_test,\n",
    "    tokenizer=tokenizer,\n",
    "    data_collator=data_collator,\n",
    "    compute_metrics=compute_metrics,\n",
    ")"
   ],
   "metadata": {
    "collapsed": false,
    "ExecuteTime": {
     "end_time": "2024-03-27T22:58:40.023431Z",
     "start_time": "2024-03-27T22:58:39.740776Z"
    }
   },
   "id": "ff5d224b8e3eebf2",
   "execution_count": 15
  },
  {
   "cell_type": "code",
   "outputs": [
    {
     "data": {
      "text/plain": "<IPython.core.display.HTML object>",
      "text/html": "\n    <div>\n      \n      <progress value='9375' max='9375' style='width:300px; height:20px; vertical-align: middle;'></progress>\n      [9375/9375 53:28, Epoch 3/3]\n    </div>\n    <table border=\"1\" class=\"dataframe\">\n  <thead>\n <tr style=\"text-align: left;\">\n      <th>Epoch</th>\n      <th>Training Loss</th>\n      <th>Validation Loss</th>\n      <th>Accuracy</th>\n    </tr>\n  </thead>\n  <tbody>\n    <tr>\n      <td>1</td>\n      <td>0.237600</td>\n      <td>0.195186</td>\n      <td>0.934400</td>\n    </tr>\n    <tr>\n      <td>2</td>\n      <td>0.226800</td>\n      <td>0.223936</td>\n      <td>0.937240</td>\n    </tr>\n    <tr>\n      <td>3</td>\n      <td>0.195100</td>\n      <td>0.205389</td>\n      <td>0.941960</td>\n    </tr>\n  </tbody>\n</table><p>"
     },
     "metadata": {},
     "output_type": "display_data"
    },
    {
     "name": "stdout",
     "output_type": "stream",
     "text": [
      "CPU times: total: 20min 48s\n",
      "Wall time: 53min 29s\n"
     ]
    }
   ],
   "source": [
    "%%time\n",
    "\n",
    "training_result = trainer.train()"
   ],
   "metadata": {
    "collapsed": false,
    "ExecuteTime": {
     "end_time": "2024-03-27T23:52:09.186831Z",
     "start_time": "2024-03-27T22:58:40.024431Z"
    }
   },
   "id": "6dde851f85d5479f",
   "execution_count": 16
  },
  {
   "cell_type": "code",
   "outputs": [],
   "source": [
    "# compute train results\n",
    "metrics = training_result.metrics\n",
    "max_train_samples = len(tokenized_train)\n",
    "metrics[\"train_samples\"] = min(max_train_samples, len(tokenized_train))"
   ],
   "metadata": {
    "collapsed": false,
    "ExecuteTime": {
     "end_time": "2024-03-27T23:52:09.202836Z",
     "start_time": "2024-03-27T23:52:09.187831Z"
    }
   },
   "id": "5f455d330a592079",
   "execution_count": 17
  },
  {
   "cell_type": "code",
   "outputs": [
    {
     "data": {
      "text/plain": "<IPython.core.display.HTML object>",
      "text/html": "\n    <div>\n      \n      <progress value='3125' max='3125' style='width:300px; height:20px; vertical-align: middle;'></progress>\n      [3125/3125 04:53]\n    </div>\n    "
     },
     "metadata": {},
     "output_type": "display_data"
    }
   ],
   "source": [
    "# compute evaluation results\n",
    "metrics = trainer.evaluate()\n",
    "max_val_samples = len(tokenized_test)\n",
    "metrics[\"eval_samples\"] = min(max_val_samples, len(tokenized_test))"
   ],
   "metadata": {
    "collapsed": false,
    "ExecuteTime": {
     "end_time": "2024-03-27T23:57:04.253805Z",
     "start_time": "2024-03-27T23:52:09.203836Z"
    }
   },
   "id": "8302930f0a73930",
   "execution_count": 18
  },
  {
   "cell_type": "code",
   "outputs": [
    {
     "data": {
      "text/plain": "{'eval_loss': 0.19518615305423737,\n 'eval_accuracy': 0.9344,\n 'eval_runtime': 295.036,\n 'eval_samples_per_second': 84.735,\n 'eval_steps_per_second': 10.592,\n 'epoch': 3.0,\n 'eval_samples': 25000}"
     },
     "execution_count": 19,
     "metadata": {},
     "output_type": "execute_result"
    }
   ],
   "source": [
    "metrics"
   ],
   "metadata": {
    "collapsed": false,
    "ExecuteTime": {
     "end_time": "2024-03-27T23:57:04.269313Z",
     "start_time": "2024-03-27T23:57:04.254806Z"
    }
   },
   "id": "72c0eedb041ba4c8",
   "execution_count": 19
  },
  {
   "cell_type": "markdown",
   "source": [
    "### Performance Metrics\n",
    "\n",
    "| eval_loss | eval_accuracy | eval_runtime | eval_samples_per_second | eval_steps_per_second | epoc | eval_samples |\n",
    "|---|---|---|---|---|---|---|\n",
    "| 0.2063382863998413 | 0.94084 | 299.731 | 83.408 | 10.426 | 3.0 | 25000 |"
   ],
   "metadata": {
    "collapsed": false
   },
   "id": "8b13e4acd5246086"
  },
  {
   "cell_type": "markdown",
   "source": [
    "### Test!"
   ],
   "metadata": {
    "collapsed": false
   },
   "id": "ff3eb16d8ae8e71d"
  },
  {
   "cell_type": "code",
   "outputs": [
    {
     "data": {
      "text/plain": "'My town is a small one and we can only have the chance to see the big Hollywood productions.I had to wait for months to see this movie and I found it at Blockbusters yesterday.The cast is a dream cast for me I always liked Peter Mullan after My name is Joe.Milla Jovovich is an actress which I really find passionate.When the film was over I could not believe how bad it was.Meaningless details,bad picture quality and unbelievably bad story. I am so sorry for the cast and the director.'"
     },
     "execution_count": 20,
     "metadata": {},
     "output_type": "execute_result"
    }
   ],
   "source": [
    "import random\n",
    "\n",
    "N = len(tokenized_unsupervised)\n",
    "\n",
    "idx = random.randint(1, N)\n",
    "\n",
    "example = tokenized_unsupervised[idx]\n",
    "text = example['text']\n",
    "text"
   ],
   "metadata": {
    "collapsed": false,
    "ExecuteTime": {
     "end_time": "2024-03-27T23:57:04.285317Z",
     "start_time": "2024-03-27T23:57:04.270313Z"
    }
   },
   "id": "3bbe84616ba5dbe5",
   "execution_count": 20
  },
  {
   "cell_type": "code",
   "outputs": [],
   "source": [
    "tokenised = tokenizer(text, return_tensors='pt')\n",
    "model = model.to('cpu')\n",
    "res = model(**tokenised)"
   ],
   "metadata": {
    "collapsed": false,
    "ExecuteTime": {
     "end_time": "2024-03-27T23:57:05.075541Z",
     "start_time": "2024-03-27T23:57:04.286316Z"
    }
   },
   "id": "9c753a8f4b629786",
   "execution_count": 21
  },
  {
   "cell_type": "code",
   "outputs": [
    {
     "data": {
      "text/plain": "tensor(0)"
     },
     "execution_count": 22,
     "metadata": {},
     "output_type": "execute_result"
    }
   ],
   "source": [
    "import torch.nn.functional as F\n",
    "\n",
    "probabilities = F.softmax(res.logits, dim=1)\n",
    "predicted_class = probabilities.argmax(dim=1)\n",
    "predicted_class[0]"
   ],
   "metadata": {
    "collapsed": false,
    "ExecuteTime": {
     "end_time": "2024-03-27T23:57:05.091545Z",
     "start_time": "2024-03-27T23:57:05.076542Z"
    }
   },
   "id": "2cdfb7dcd1097ae2",
   "execution_count": 22
  },
  {
   "cell_type": "code",
   "outputs": [],
   "source": [
    "trainer.save_model(f'peft/{model_id}')"
   ],
   "metadata": {
    "collapsed": false,
    "ExecuteTime": {
     "end_time": "2024-03-27T23:57:05.921379Z",
     "start_time": "2024-03-27T23:57:05.092545Z"
    }
   },
   "id": "b9eb0653ed3674a4",
   "execution_count": 23
  },
  {
   "cell_type": "code",
   "outputs": [
    {
     "data": {
      "text/plain": "335932420"
     },
     "execution_count": 24,
     "metadata": {},
     "output_type": "execute_result"
    }
   ],
   "source": [
    "model.num_parameters()"
   ],
   "metadata": {
    "collapsed": false,
    "ExecuteTime": {
     "end_time": "2024-03-27T23:57:05.937383Z",
     "start_time": "2024-03-27T23:57:05.922379Z"
    }
   },
   "id": "a89409684d1fb0a5",
   "execution_count": 24
  },
  {
   "cell_type": "code",
   "outputs": [],
   "source": [],
   "metadata": {
    "collapsed": false,
    "ExecuteTime": {
     "end_time": "2024-03-27T23:57:05.953388Z",
     "start_time": "2024-03-27T23:57:05.938383Z"
    }
   },
   "id": "cec8814406ff67cb",
   "execution_count": 24
  }
 ],
 "metadata": {
  "kernelspec": {
   "display_name": "Python 3",
   "language": "python",
   "name": "python3"
  },
  "language_info": {
   "codemirror_mode": {
    "name": "ipython",
    "version": 2
   },
   "file_extension": ".py",
   "mimetype": "text/x-python",
   "name": "python",
   "nbconvert_exporter": "python",
   "pygments_lexer": "ipython2",
   "version": "2.7.6"
  }
 },
 "nbformat": 4,
 "nbformat_minor": 5
}
